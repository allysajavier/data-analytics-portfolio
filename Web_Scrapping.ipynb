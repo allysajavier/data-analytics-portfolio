{
  "nbformat": 4,
  "nbformat_minor": 0,
  "metadata": {
    "colab": {
      "provenance": []
    },
    "kernelspec": {
      "name": "python3",
      "display_name": "Python 3"
    },
    "language_info": {
      "name": "python"
    }
  },
  "cells": [
    {
      "cell_type": "markdown",
      "source": [
        "### Import relevant libraries"
      ],
      "metadata": {
        "id": "rVBmZcX-08G2"
      }
    },
    {
      "cell_type": "code",
      "source": [
        "import requests\n",
        "from bs4 import BeautifulSoup\n",
        "\n",
        "import numpy as np\n",
        "import pandas as pd"
      ],
      "metadata": {
        "id": "CiicrZsH0-Qb"
      },
      "execution_count": null,
      "outputs": []
    },
    {
      "cell_type": "markdown",
      "source": [
        "### Retrieve HTML code"
      ],
      "metadata": {
        "id": "qTMUtW9c1BZZ"
      }
    },
    {
      "cell_type": "code",
      "source": [
        "web_url = \"https://quotes.toscrape.com/scroll\"\n",
        "response = requests.get(web_url)\n",
        "\n",
        "#Feed HTML to BeautifulSoup parser\n",
        "soup = BeautifulSoup(response.content, \"html.parser\")\n",
        "\n",
        "#pretty print results\n",
        "print(soup.prettify())"
      ],
      "metadata": {
        "colab": {
          "base_uri": "https://localhost:8080/"
        },
        "id": "o99oVc8E1EDR",
        "outputId": "af54d46b-cbdf-441d-b5d2-6e4172be2ebe"
      },
      "execution_count": null,
      "outputs": [
        {
          "output_type": "stream",
          "name": "stdout",
          "text": [
            "<!DOCTYPE html>\n",
            "<html lang=\"en\">\n",
            " <head>\n",
            "  <meta charset=\"utf-8\"/>\n",
            "  <title>\n",
            "   Quotes to Scrape\n",
            "  </title>\n",
            "  <link href=\"/static/bootstrap.min.css\" rel=\"stylesheet\"/>\n",
            "  <link href=\"/static/main.css\" rel=\"stylesheet\"/>\n",
            " </head>\n",
            " <body>\n",
            "  <div class=\"container\">\n",
            "   <div class=\"row header-box\">\n",
            "    <div class=\"col-md-8\">\n",
            "     <h1>\n",
            "      <a href=\"/\" style=\"text-decoration: none\">\n",
            "       Quotes to Scrape\n",
            "      </a>\n",
            "     </h1>\n",
            "    </div>\n",
            "    <div class=\"col-md-4\">\n",
            "     <p>\n",
            "      <a href=\"/login\">\n",
            "       Login\n",
            "      </a>\n",
            "     </p>\n",
            "    </div>\n",
            "   </div>\n",
            "   <div class=\"row\">\n",
            "    <div class=\"col-md-8\">\n",
            "     <div class=\"quotes\">\n",
            "     </div>\n",
            "    </div>\n",
            "   </div>\n",
            "   <div id=\"loading\" style=\"background-color: #eeeecc\">\n",
            "    <h5>\n",
            "     Loading...\n",
            "    </h5>\n",
            "   </div>\n",
            "   <script src=\"/static/jquery.js\">\n",
            "   </script>\n",
            "   <script>\n",
            "    $(function(){\n",
            "        var page = 1, tag = null, hasNextPage = true;\n",
            "        function appendQuotes(quotes) {\n",
            "            var $quotes = $('.quotes');\n",
            "            var html = $.map(quotes, function(d){\n",
            "                var tags = $.map(d['tags'], function(t) {\n",
            "                    return \"<a class='tag'>\" + t + \"</a>\";\n",
            "                }).join(\" \");\n",
            "                return \"<div class='quote'><span class='text'>\" + d['text'] + \"</span><span>by <small class='author'>\" + d['author']['name'] + \"</small></span><div class='tags'>Tags: \" + tags + \"</div></div>\";\n",
            "            });\n",
            "\n",
            "            $quotes.append(html);\n",
            "        }\n",
            "\n",
            "        function updatePage(page) {\n",
            "            $('#loading').show('fast');\n",
            "            $.get('/api/quotes', {page: page}).done(function(data) {\n",
            "                appendQuotes(data.quotes);\n",
            "                hasNextPage = data.has_next;\n",
            "                $('#loading').hide('fast');\n",
            "            });\n",
            "        }\n",
            "        updatePage(page);\n",
            "        $(window).on('scroll', function(){\n",
            "            var scrollTop = $(window).scrollTop();\n",
            "            var heightDiff = $(document).height() - $(window).height();\n",
            "            if (hasNextPage && Math.abs(scrollTop - heightDiff) <= 1){\n",
            "                page += 1;\n",
            "                console.log('scrolling to page: ' + page);\n",
            "                updatePage(page);\n",
            "            }\n",
            "        });\n",
            "    });\n",
            "   </script>\n",
            "  </div>\n",
            "  <footer class=\"footer\">\n",
            "   <div class=\"container\">\n",
            "    <p class=\"text-muted\">\n",
            "     Quotes by:\n",
            "     <a href=\"https://www.goodreads.com/quotes\">\n",
            "      GoodReads.com\n",
            "     </a>\n",
            "    </p>\n",
            "    <p class=\"copyright\">\n",
            "     Made with\n",
            "     <span class=\"zyte\">\n",
            "      ❤\n",
            "     </span>\n",
            "     by\n",
            "     <a class=\"zyte\" href=\"https://www.zyte.com\">\n",
            "      Zyte\n",
            "     </a>\n",
            "    </p>\n",
            "   </div>\n",
            "  </footer>\n",
            " </body>\n",
            "</html>\n",
            "\n"
          ]
        }
      ]
    },
    {
      "cell_type": "markdown",
      "source": [
        "### Install selenium"
      ],
      "metadata": {
        "id": "hcuGK3O81IGF"
      }
    },
    {
      "cell_type": "code",
      "source": [
        "!pip install selenium\n",
        "!pip install chromedriver-autoinstaller\n",
        "import sys\n",
        "sys.path.insert(0,'/usr/lib/chromium-browser/chromedriver')"
      ],
      "metadata": {
        "colab": {
          "base_uri": "https://localhost:8080/"
        },
        "id": "8z2oAy3S1Pi_",
        "outputId": "238581b6-b062-4e08-f211-0ac2f5e538d3"
      },
      "execution_count": null,
      "outputs": [
        {
          "output_type": "stream",
          "name": "stdout",
          "text": [
            "Collecting selenium\n",
            "  Downloading selenium-4.21.0-py3-none-any.whl (9.5 MB)\n",
            "\u001b[2K     \u001b[90m━━━━━━━━━━━━━━━━━━━━━━━━━━━━━━━━━━━━━━━━\u001b[0m \u001b[32m9.5/9.5 MB\u001b[0m \u001b[31m41.4 MB/s\u001b[0m eta \u001b[36m0:00:00\u001b[0m\n",
            "\u001b[?25hRequirement already satisfied: urllib3[socks]<3,>=1.26 in /usr/local/lib/python3.10/dist-packages (from selenium) (2.0.7)\n",
            "Collecting trio~=0.17 (from selenium)\n",
            "  Downloading trio-0.25.1-py3-none-any.whl (467 kB)\n",
            "\u001b[2K     \u001b[90m━━━━━━━━━━━━━━━━━━━━━━━━━━━━━━━━━━━━━━━━\u001b[0m \u001b[32m467.7/467.7 kB\u001b[0m \u001b[31m30.2 MB/s\u001b[0m eta \u001b[36m0:00:00\u001b[0m\n",
            "\u001b[?25hCollecting trio-websocket~=0.9 (from selenium)\n",
            "  Downloading trio_websocket-0.11.1-py3-none-any.whl (17 kB)\n",
            "Requirement already satisfied: certifi>=2021.10.8 in /usr/local/lib/python3.10/dist-packages (from selenium) (2024.2.2)\n",
            "Requirement already satisfied: typing_extensions>=4.9.0 in /usr/local/lib/python3.10/dist-packages (from selenium) (4.11.0)\n",
            "Requirement already satisfied: attrs>=23.2.0 in /usr/local/lib/python3.10/dist-packages (from trio~=0.17->selenium) (23.2.0)\n",
            "Requirement already satisfied: sortedcontainers in /usr/local/lib/python3.10/dist-packages (from trio~=0.17->selenium) (2.4.0)\n",
            "Requirement already satisfied: idna in /usr/local/lib/python3.10/dist-packages (from trio~=0.17->selenium) (3.7)\n",
            "Collecting outcome (from trio~=0.17->selenium)\n",
            "  Downloading outcome-1.3.0.post0-py2.py3-none-any.whl (10 kB)\n",
            "Requirement already satisfied: sniffio>=1.3.0 in /usr/local/lib/python3.10/dist-packages (from trio~=0.17->selenium) (1.3.1)\n",
            "Requirement already satisfied: exceptiongroup in /usr/local/lib/python3.10/dist-packages (from trio~=0.17->selenium) (1.2.1)\n",
            "Collecting wsproto>=0.14 (from trio-websocket~=0.9->selenium)\n",
            "  Downloading wsproto-1.2.0-py3-none-any.whl (24 kB)\n",
            "Requirement already satisfied: pysocks!=1.5.7,<2.0,>=1.5.6 in /usr/local/lib/python3.10/dist-packages (from urllib3[socks]<3,>=1.26->selenium) (1.7.1)\n",
            "Collecting h11<1,>=0.9.0 (from wsproto>=0.14->trio-websocket~=0.9->selenium)\n",
            "  Downloading h11-0.14.0-py3-none-any.whl (58 kB)\n",
            "\u001b[2K     \u001b[90m━━━━━━━━━━━━━━━━━━━━━━━━━━━━━━━━━━━━━━━━\u001b[0m \u001b[32m58.3/58.3 kB\u001b[0m \u001b[31m6.9 MB/s\u001b[0m eta \u001b[36m0:00:00\u001b[0m\n",
            "\u001b[?25hInstalling collected packages: outcome, h11, wsproto, trio, trio-websocket, selenium\n",
            "Successfully installed h11-0.14.0 outcome-1.3.0.post0 selenium-4.21.0 trio-0.25.1 trio-websocket-0.11.1 wsproto-1.2.0\n",
            "Collecting chromedriver-autoinstaller\n",
            "  Downloading chromedriver_autoinstaller-0.6.4-py3-none-any.whl (7.6 kB)\n",
            "Requirement already satisfied: packaging>=23.1 in /usr/local/lib/python3.10/dist-packages (from chromedriver-autoinstaller) (24.0)\n",
            "Installing collected packages: chromedriver-autoinstaller\n",
            "Successfully installed chromedriver-autoinstaller-0.6.4\n"
          ]
        }
      ]
    },
    {
      "cell_type": "code",
      "source": [
        "!apt-get update\n",
        "!apt-get install -y chromium-browser"
      ],
      "metadata": {
        "colab": {
          "base_uri": "https://localhost:8080/"
        },
        "id": "9yD2EbK81QKk",
        "outputId": "c05567f6-844c-4240-fbcc-54903d271643"
      },
      "execution_count": null,
      "outputs": [
        {
          "output_type": "stream",
          "name": "stdout",
          "text": [
            "\r0% [Working]\r            \rGet:1 http://security.ubuntu.com/ubuntu jammy-security InRelease [129 kB]\n",
            "\r0% [Waiting for headers] [1 InRelease 2,588 B/129 kB 2%] [Connected to cloud.r-project.org (108.157.\r                                                                                                    \rHit:2 http://archive.ubuntu.com/ubuntu jammy InRelease\n",
            "\r0% [1 InRelease 35.9 kB/129 kB 28%] [Connected to cloud.r-project.org (108.157.173.89)] [Connecting \r                                                                                                    \rGet:3 http://archive.ubuntu.com/ubuntu jammy-updates InRelease [128 kB]\n",
            "\r0% [3 InRelease 14.2 kB/128 kB 11%] [1 InRelease 35.9 kB/129 kB 28%] [Waiting for headers] [Connecti\r                                                                                                    \rGet:4 https://cloud.r-project.org/bin/linux/ubuntu jammy-cran40/ InRelease [3,626 B]\n",
            "\r0% [3 InRelease 15.6 kB/128 kB 12%] [1 InRelease 65.5 kB/129 kB 51%] [Connecting to ppa.launchpadcon\r                                                                                                    \rHit:5 https://developer.download.nvidia.com/compute/cuda/repos/ubuntu2204/x86_64  InRelease\n",
            "Get:6 http://archive.ubuntu.com/ubuntu jammy-backports InRelease [127 kB]\n",
            "Hit:7 https://ppa.launchpadcontent.net/c2d4u.team/c2d4u4.0+/ubuntu jammy InRelease\n",
            "Hit:8 https://ppa.launchpadcontent.net/deadsnakes/ppa/ubuntu jammy InRelease\n",
            "Get:9 http://security.ubuntu.com/ubuntu jammy-security/universe amd64 Packages [1,084 kB]\n",
            "Get:10 http://security.ubuntu.com/ubuntu jammy-security/main amd64 Packages [1,858 kB]\n",
            "Get:11 https://ppa.launchpadcontent.net/graphics-drivers/ppa/ubuntu jammy InRelease [24.3 kB]\n",
            "Get:12 http://archive.ubuntu.com/ubuntu jammy-updates/main amd64 Packages [2,129 kB]\n",
            "Hit:13 https://ppa.launchpadcontent.net/ubuntugis/ppa/ubuntu jammy InRelease\n",
            "Get:14 http://archive.ubuntu.com/ubuntu jammy-updates/universe amd64 Packages [1,377 kB]\n",
            "Get:15 https://ppa.launchpadcontent.net/graphics-drivers/ppa/ubuntu jammy/main amd64 Packages [47.6 kB]\n",
            "Fetched 6,907 kB in 2s (3,324 kB/s)\n",
            "Reading package lists... Done\n",
            "Reading package lists... Done\n",
            "Building dependency tree... Done\n",
            "Reading state information... Done\n",
            "The following additional packages will be installed:\n",
            "  apparmor libfuse3-3 liblzo2-2 libudev1 snapd squashfs-tools systemd-hwe-hwdb udev\n",
            "Suggested packages:\n",
            "  apparmor-profiles-extra apparmor-utils fuse3 zenity | kdialog\n",
            "The following NEW packages will be installed:\n",
            "  apparmor chromium-browser libfuse3-3 liblzo2-2 snapd squashfs-tools systemd-hwe-hwdb udev\n",
            "The following packages will be upgraded:\n",
            "  libudev1\n",
            "1 upgraded, 8 newly installed, 0 to remove and 50 not upgraded.\n",
            "Need to get 28.3 MB of archives.\n",
            "After this operation, 117 MB of additional disk space will be used.\n",
            "Get:1 http://archive.ubuntu.com/ubuntu jammy-updates/main amd64 apparmor amd64 3.0.4-2ubuntu2.3 [595 kB]\n",
            "Get:2 http://archive.ubuntu.com/ubuntu jammy/main amd64 liblzo2-2 amd64 2.10-2build3 [53.7 kB]\n",
            "Get:3 http://archive.ubuntu.com/ubuntu jammy/main amd64 squashfs-tools amd64 1:4.5-3build1 [159 kB]\n",
            "Get:4 http://archive.ubuntu.com/ubuntu jammy-updates/main amd64 libudev1 amd64 249.11-0ubuntu3.12 [78.2 kB]\n",
            "Get:5 http://archive.ubuntu.com/ubuntu jammy-updates/main amd64 udev amd64 249.11-0ubuntu3.12 [1,557 kB]\n",
            "Get:6 http://archive.ubuntu.com/ubuntu jammy/main amd64 libfuse3-3 amd64 3.10.5-1build1 [81.2 kB]\n",
            "Get:7 http://archive.ubuntu.com/ubuntu jammy-updates/main amd64 snapd amd64 2.62+22.04 [25.8 MB]\n",
            "Get:8 http://archive.ubuntu.com/ubuntu jammy-updates/universe amd64 chromium-browser amd64 1:85.0.4183.83-0ubuntu2.22.04.1 [49.2 kB]\n",
            "Get:9 http://archive.ubuntu.com/ubuntu jammy-updates/main amd64 systemd-hwe-hwdb all 249.11.5 [3,228 B]\n",
            "Fetched 28.3 MB in 1s (25.8 MB/s)\n",
            "Preconfiguring packages ...\n",
            "Selecting previously unselected package apparmor.\n",
            "(Reading database ... 121918 files and directories currently installed.)\n",
            "Preparing to unpack .../apparmor_3.0.4-2ubuntu2.3_amd64.deb ...\n",
            "Unpacking apparmor (3.0.4-2ubuntu2.3) ...\n",
            "Selecting previously unselected package liblzo2-2:amd64.\n",
            "Preparing to unpack .../liblzo2-2_2.10-2build3_amd64.deb ...\n",
            "Unpacking liblzo2-2:amd64 (2.10-2build3) ...\n",
            "Selecting previously unselected package squashfs-tools.\n",
            "Preparing to unpack .../squashfs-tools_1%3a4.5-3build1_amd64.deb ...\n",
            "Unpacking squashfs-tools (1:4.5-3build1) ...\n",
            "Preparing to unpack .../libudev1_249.11-0ubuntu3.12_amd64.deb ...\n",
            "Unpacking libudev1:amd64 (249.11-0ubuntu3.12) over (249.11-0ubuntu3.10) ...\n",
            "Setting up libudev1:amd64 (249.11-0ubuntu3.12) ...\n",
            "Selecting previously unselected package udev.\n",
            "(Reading database ... 122126 files and directories currently installed.)\n",
            "Preparing to unpack .../udev_249.11-0ubuntu3.12_amd64.deb ...\n",
            "Unpacking udev (249.11-0ubuntu3.12) ...\n",
            "Selecting previously unselected package libfuse3-3:amd64.\n",
            "Preparing to unpack .../libfuse3-3_3.10.5-1build1_amd64.deb ...\n",
            "Unpacking libfuse3-3:amd64 (3.10.5-1build1) ...\n",
            "Selecting previously unselected package snapd.\n",
            "Preparing to unpack .../snapd_2.62+22.04_amd64.deb ...\n",
            "Unpacking snapd (2.62+22.04) ...\n",
            "Setting up apparmor (3.0.4-2ubuntu2.3) ...\n",
            "Created symlink /etc/systemd/system/sysinit.target.wants/apparmor.service → /lib/systemd/system/apparmor.service.\n",
            "Setting up liblzo2-2:amd64 (2.10-2build3) ...\n",
            "Setting up squashfs-tools (1:4.5-3build1) ...\n",
            "Setting up udev (249.11-0ubuntu3.12) ...\n",
            "invoke-rc.d: could not determine current runlevel\n",
            "invoke-rc.d: policy-rc.d denied execution of start.\n",
            "Setting up libfuse3-3:amd64 (3.10.5-1build1) ...\n",
            "Setting up snapd (2.62+22.04) ...\n",
            "Created symlink /etc/systemd/system/multi-user.target.wants/snapd.apparmor.service → /lib/systemd/system/snapd.apparmor.service.\n",
            "Created symlink /etc/systemd/system/multi-user.target.wants/snapd.autoimport.service → /lib/systemd/system/snapd.autoimport.service.\n",
            "Created symlink /etc/systemd/system/multi-user.target.wants/snapd.core-fixup.service → /lib/systemd/system/snapd.core-fixup.service.\n",
            "Created symlink /etc/systemd/system/multi-user.target.wants/snapd.recovery-chooser-trigger.service → /lib/systemd/system/snapd.recovery-chooser-trigger.service.\n",
            "Created symlink /etc/systemd/system/multi-user.target.wants/snapd.seeded.service → /lib/systemd/system/snapd.seeded.service.\n",
            "Created symlink /etc/systemd/system/cloud-final.service.wants/snapd.seeded.service → /lib/systemd/system/snapd.seeded.service.\n",
            "Unit /lib/systemd/system/snapd.seeded.service is added as a dependency to a non-existent unit cloud-final.service.\n",
            "Created symlink /etc/systemd/system/multi-user.target.wants/snapd.service → /lib/systemd/system/snapd.service.\n",
            "Created symlink /etc/systemd/system/timers.target.wants/snapd.snap-repair.timer → /lib/systemd/system/snapd.snap-repair.timer.\n",
            "Created symlink /etc/systemd/system/sockets.target.wants/snapd.socket → /lib/systemd/system/snapd.socket.\n",
            "Created symlink /etc/systemd/system/final.target.wants/snapd.system-shutdown.service → /lib/systemd/system/snapd.system-shutdown.service.\n",
            "Selecting previously unselected package chromium-browser.\n",
            "(Reading database ... 122356 files and directories currently installed.)\n",
            "Preparing to unpack .../chromium-browser_1%3a85.0.4183.83-0ubuntu2.22.04.1_amd64.deb ...\n",
            "=> Installing the chromium snap\n",
            "==> Checking connectivity with the snap store\n",
            "===> System doesn't have a working snapd, skipping\n",
            "Unpacking chromium-browser (1:85.0.4183.83-0ubuntu2.22.04.1) ...\n",
            "Selecting previously unselected package systemd-hwe-hwdb.\n",
            "Preparing to unpack .../systemd-hwe-hwdb_249.11.5_all.deb ...\n",
            "Unpacking systemd-hwe-hwdb (249.11.5) ...\n",
            "Setting up systemd-hwe-hwdb (249.11.5) ...\n",
            "Setting up chromium-browser (1:85.0.4183.83-0ubuntu2.22.04.1) ...\n",
            "update-alternatives: using /usr/bin/chromium-browser to provide /usr/bin/x-www-browser (x-www-browser) in auto mode\n",
            "update-alternatives: using /usr/bin/chromium-browser to provide /usr/bin/gnome-www-browser (gnome-www-browser) in auto mode\n",
            "Processing triggers for libc-bin (2.35-0ubuntu3.4) ...\n",
            "/sbin/ldconfig.real: /usr/local/lib/libtbb.so.12 is not a symbolic link\n",
            "\n",
            "/sbin/ldconfig.real: /usr/local/lib/libtbbbind_2_0.so.3 is not a symbolic link\n",
            "\n",
            "/sbin/ldconfig.real: /usr/local/lib/libtbbmalloc.so.2 is not a symbolic link\n",
            "\n",
            "/sbin/ldconfig.real: /usr/local/lib/libtbbbind.so.3 is not a symbolic link\n",
            "\n",
            "/sbin/ldconfig.real: /usr/local/lib/libtbbmalloc_proxy.so.2 is not a symbolic link\n",
            "\n",
            "/sbin/ldconfig.real: /usr/local/lib/libtbbbind_2_5.so.3 is not a symbolic link\n",
            "\n",
            "Processing triggers for man-db (2.10.2-1) ...\n",
            "Processing triggers for dbus (1.12.20-2ubuntu4.1) ...\n",
            "Processing triggers for udev (249.11-0ubuntu3.12) ...\n",
            "Processing triggers for hicolor-icon-theme (0.17-2) ...\n"
          ]
        }
      ]
    },
    {
      "cell_type": "code",
      "source": [
        "!apt install chromium-chromedriver"
      ],
      "metadata": {
        "colab": {
          "base_uri": "https://localhost:8080/"
        },
        "id": "kpt4TXjC1cn9",
        "outputId": "66a8b104-6190-471d-aeec-f5de27a0fd86"
      },
      "execution_count": null,
      "outputs": [
        {
          "output_type": "stream",
          "name": "stdout",
          "text": [
            "Reading package lists... Done\n",
            "Building dependency tree... Done\n",
            "Reading state information... Done\n",
            "The following NEW packages will be installed:\n",
            "  chromium-chromedriver\n",
            "0 upgraded, 1 newly installed, 0 to remove and 50 not upgraded.\n",
            "Need to get 2,308 B of archives.\n",
            "After this operation, 77.8 kB of additional disk space will be used.\n",
            "Get:1 http://archive.ubuntu.com/ubuntu jammy-updates/universe amd64 chromium-chromedriver amd64 1:85.0.4183.83-0ubuntu2.22.04.1 [2,308 B]\n",
            "Fetched 2,308 B in 0s (35.2 kB/s)\n",
            "Selecting previously unselected package chromium-chromedriver.\n",
            "(Reading database ... 122377 files and directories currently installed.)\n",
            "Preparing to unpack .../chromium-chromedriver_1%3a85.0.4183.83-0ubuntu2.22.04.1_amd64.deb ...\n",
            "Unpacking chromium-chromedriver (1:85.0.4183.83-0ubuntu2.22.04.1) ...\n",
            "Setting up chromium-chromedriver (1:85.0.4183.83-0ubuntu2.22.04.1) ...\n"
          ]
        }
      ]
    },
    {
      "cell_type": "code",
      "source": [
        "#chromedriver\n",
        "!ls /usr/lib/chromium-browser/chromedriver"
      ],
      "metadata": {
        "colab": {
          "base_uri": "https://localhost:8080/"
        },
        "id": "93MU7Q1U1jz1",
        "outputId": "8e912112-4ab5-4de3-b29b-0750743ff550"
      },
      "execution_count": null,
      "outputs": [
        {
          "output_type": "stream",
          "name": "stdout",
          "text": [
            "/usr/lib/chromium-browser/chromedriver\n"
          ]
        }
      ]
    },
    {
      "cell_type": "code",
      "source": [
        "%pip install google-colab-selenium"
      ],
      "metadata": {
        "colab": {
          "base_uri": "https://localhost:8080/"
        },
        "id": "kBP2Od341qaW",
        "outputId": "bd4910ba-cf69-4023-c6cb-e15c7b51ef18"
      },
      "execution_count": null,
      "outputs": [
        {
          "output_type": "stream",
          "name": "stdout",
          "text": [
            "Collecting google-colab-selenium\n",
            "  Downloading google_colab_selenium-1.0.13-py3-none-any.whl (8.1 kB)\n",
            "Requirement already satisfied: selenium in /usr/local/lib/python3.10/dist-packages (from google-colab-selenium) (4.21.0)\n",
            "Requirement already satisfied: urllib3[socks]<3,>=1.26 in /usr/local/lib/python3.10/dist-packages (from selenium->google-colab-selenium) (2.0.7)\n",
            "Requirement already satisfied: trio~=0.17 in /usr/local/lib/python3.10/dist-packages (from selenium->google-colab-selenium) (0.25.1)\n",
            "Requirement already satisfied: trio-websocket~=0.9 in /usr/local/lib/python3.10/dist-packages (from selenium->google-colab-selenium) (0.11.1)\n",
            "Requirement already satisfied: certifi>=2021.10.8 in /usr/local/lib/python3.10/dist-packages (from selenium->google-colab-selenium) (2024.2.2)\n",
            "Requirement already satisfied: typing_extensions>=4.9.0 in /usr/local/lib/python3.10/dist-packages (from selenium->google-colab-selenium) (4.11.0)\n",
            "Requirement already satisfied: attrs>=23.2.0 in /usr/local/lib/python3.10/dist-packages (from trio~=0.17->selenium->google-colab-selenium) (23.2.0)\n",
            "Requirement already satisfied: sortedcontainers in /usr/local/lib/python3.10/dist-packages (from trio~=0.17->selenium->google-colab-selenium) (2.4.0)\n",
            "Requirement already satisfied: idna in /usr/local/lib/python3.10/dist-packages (from trio~=0.17->selenium->google-colab-selenium) (3.7)\n",
            "Requirement already satisfied: outcome in /usr/local/lib/python3.10/dist-packages (from trio~=0.17->selenium->google-colab-selenium) (1.3.0.post0)\n",
            "Requirement already satisfied: sniffio>=1.3.0 in /usr/local/lib/python3.10/dist-packages (from trio~=0.17->selenium->google-colab-selenium) (1.3.1)\n",
            "Requirement already satisfied: exceptiongroup in /usr/local/lib/python3.10/dist-packages (from trio~=0.17->selenium->google-colab-selenium) (1.2.1)\n",
            "Requirement already satisfied: wsproto>=0.14 in /usr/local/lib/python3.10/dist-packages (from trio-websocket~=0.9->selenium->google-colab-selenium) (1.2.0)\n",
            "Requirement already satisfied: pysocks!=1.5.7,<2.0,>=1.5.6 in /usr/local/lib/python3.10/dist-packages (from urllib3[socks]<3,>=1.26->selenium->google-colab-selenium) (1.7.1)\n",
            "Requirement already satisfied: h11<1,>=0.9.0 in /usr/local/lib/python3.10/dist-packages (from wsproto>=0.14->trio-websocket~=0.9->selenium->google-colab-selenium) (0.14.0)\n",
            "Installing collected packages: google-colab-selenium\n",
            "Successfully installed google-colab-selenium-1.0.13\n"
          ]
        }
      ]
    },
    {
      "cell_type": "code",
      "source": [
        "from selenium import webdriver\n",
        "from selenium.webdriver.common.keys import Keys\n",
        "from selenium.webdriver.common.by import By\n",
        "\n",
        "import google_colab_selenium as gs\n",
        "from selenium.webdriver.chrome.options import Options\n",
        "\n",
        "#instantiate options\n",
        "options = Options()\n",
        "\n",
        "#add extra options\n",
        "options.add_argument(\"--window-size=1920,1080\")  # Set the window size\n",
        "options.add_argument(\"--disable-infobars\")  # Disable the infobars\n",
        "options.add_argument(\"--disable-popup-blocking\")  # Disable pop-ups\n",
        "options.add_argument(\"--ignore-certificate-errors\")  # Ignore certificate errors\n",
        "options.add_argument(\"--incognito\")  # Use Chrome in incognito mode\n",
        "options.add_argument('--headless')\n",
        "options.add_argument('--no-sandbox')\n",
        "options.add_argument('--disable-dev-shm-usage')\n",
        "\n",
        "\n",
        "driver = gs.Chrome(options=options)\n",
        "\n",
        "driver.get('https://quotes.toscrape.com/scroll')\n",
        "print(driver.page_source)\n"
      ],
      "metadata": {
        "colab": {
          "base_uri": "https://localhost:8080/",
          "height": 1000
        },
        "id": "gLYv8Hur1xEb",
        "outputId": "43596b30-6995-47e9-ff05-b4c4f293b51c"
      },
      "execution_count": null,
      "outputs": [
        {
          "output_type": "display_data",
          "data": {
            "text/plain": [
              "<IPython.core.display.HTML object>"
            ],
            "text/html": [
              "\n",
              "            <div class=\"spinner-container\">\n",
              "                <div class=\"spinner\" id=\"50701718-eeb4-4c05-b7ef-9f770ea123c9-circle\"></div>\n",
              "                <div class=\"spinner-text\" id=\"50701718-eeb4-4c05-b7ef-9f770ea123c9-text\">Updating and upgrading APT</div>\n",
              "            </div>\n",
              "            <style>\n",
              "                @keyframes spin {\n",
              "                    from { transform: rotate(0deg); }\n",
              "                    to { transform: rotate(360deg); }\n",
              "                }\n",
              "\n",
              "                .spinner-container {\n",
              "                    display: flex;\n",
              "                    align-items: center;\n",
              "                    margin-bottom: 3px;\n",
              "                }\n",
              "\n",
              "                .spinner {\n",
              "                    border: 3px solid rgba(0, 0, 0, 0.1);\n",
              "                    border-left-color: lightblue;\n",
              "                    border-radius: 50%;\n",
              "                    width: 12px;\n",
              "                    height: 12px;\n",
              "                    animation: spin 1s linear infinite;\n",
              "                }\n",
              "\n",
              "                .spinner-text {\n",
              "                    padding-left: 6px;\n",
              "                }\n",
              "            </style>\n",
              "        "
            ]
          },
          "metadata": {}
        },
        {
          "output_type": "display_data",
          "data": {
            "text/plain": [
              "<IPython.core.display.Javascript object>"
            ],
            "application/javascript": [
              "\n",
              "            const element = document.getElementById(\"50701718-eeb4-4c05-b7ef-9f770ea123c9-circle\");\n",
              "            element.style.border = \"3px solid limegreen\";\n",
              "            element.style.animation = \"none\";\n",
              "\n",
              "            const text = document.getElementById(\"50701718-eeb4-4c05-b7ef-9f770ea123c9-text\");\n",
              "            text.innerText = \"Updated and upgraded APT\";\n",
              "        "
            ]
          },
          "metadata": {}
        },
        {
          "output_type": "display_data",
          "data": {
            "text/plain": [
              "<IPython.core.display.HTML object>"
            ],
            "text/html": [
              "\n",
              "            <div class=\"spinner-container\">\n",
              "                <div class=\"spinner\" id=\"91c84eba-575b-4d87-9444-0d8cf46b772b-circle\"></div>\n",
              "                <div class=\"spinner-text\" id=\"91c84eba-575b-4d87-9444-0d8cf46b772b-text\">Downloading Google Chrome</div>\n",
              "            </div>\n",
              "            <style>\n",
              "                @keyframes spin {\n",
              "                    from { transform: rotate(0deg); }\n",
              "                    to { transform: rotate(360deg); }\n",
              "                }\n",
              "\n",
              "                .spinner-container {\n",
              "                    display: flex;\n",
              "                    align-items: center;\n",
              "                    margin-bottom: 3px;\n",
              "                }\n",
              "\n",
              "                .spinner {\n",
              "                    border: 3px solid rgba(0, 0, 0, 0.1);\n",
              "                    border-left-color: lightblue;\n",
              "                    border-radius: 50%;\n",
              "                    width: 12px;\n",
              "                    height: 12px;\n",
              "                    animation: spin 1s linear infinite;\n",
              "                }\n",
              "\n",
              "                .spinner-text {\n",
              "                    padding-left: 6px;\n",
              "                }\n",
              "            </style>\n",
              "        "
            ]
          },
          "metadata": {}
        },
        {
          "output_type": "display_data",
          "data": {
            "text/plain": [
              "<IPython.core.display.Javascript object>"
            ],
            "application/javascript": [
              "\n",
              "            const element = document.getElementById(\"91c84eba-575b-4d87-9444-0d8cf46b772b-circle\");\n",
              "            element.style.border = \"3px solid limegreen\";\n",
              "            element.style.animation = \"none\";\n",
              "\n",
              "            const text = document.getElementById(\"91c84eba-575b-4d87-9444-0d8cf46b772b-text\");\n",
              "            text.innerText = \"Downloaded Google Chrome\";\n",
              "        "
            ]
          },
          "metadata": {}
        },
        {
          "output_type": "display_data",
          "data": {
            "text/plain": [
              "<IPython.core.display.HTML object>"
            ],
            "text/html": [
              "\n",
              "            <div class=\"spinner-container\">\n",
              "                <div class=\"spinner\" id=\"1ed5e880-778a-4ba7-8b28-05c3383d4936-circle\"></div>\n",
              "                <div class=\"spinner-text\" id=\"1ed5e880-778a-4ba7-8b28-05c3383d4936-text\">Initializing Chromedriver</div>\n",
              "            </div>\n",
              "            <style>\n",
              "                @keyframes spin {\n",
              "                    from { transform: rotate(0deg); }\n",
              "                    to { transform: rotate(360deg); }\n",
              "                }\n",
              "\n",
              "                .spinner-container {\n",
              "                    display: flex;\n",
              "                    align-items: center;\n",
              "                    margin-bottom: 3px;\n",
              "                }\n",
              "\n",
              "                .spinner {\n",
              "                    border: 3px solid rgba(0, 0, 0, 0.1);\n",
              "                    border-left-color: lightblue;\n",
              "                    border-radius: 50%;\n",
              "                    width: 12px;\n",
              "                    height: 12px;\n",
              "                    animation: spin 1s linear infinite;\n",
              "                }\n",
              "\n",
              "                .spinner-text {\n",
              "                    padding-left: 6px;\n",
              "                }\n",
              "            </style>\n",
              "        "
            ]
          },
          "metadata": {}
        },
        {
          "output_type": "display_data",
          "data": {
            "text/plain": [
              "<IPython.core.display.Javascript object>"
            ],
            "application/javascript": [
              "\n",
              "            const element = document.getElementById(\"1ed5e880-778a-4ba7-8b28-05c3383d4936-circle\");\n",
              "            element.style.border = \"3px solid limegreen\";\n",
              "            element.style.animation = \"none\";\n",
              "\n",
              "            const text = document.getElementById(\"1ed5e880-778a-4ba7-8b28-05c3383d4936-text\");\n",
              "            text.innerText = \"Initialized Chromedriver\";\n",
              "        "
            ]
          },
          "metadata": {}
        },
        {
          "output_type": "stream",
          "name": "stdout",
          "text": [
            "<html lang=\"en\"><head>\n",
            "\t<meta charset=\"UTF-8\">\n",
            "\t<title>Quotes to Scrape</title>\n",
            "    <link rel=\"stylesheet\" href=\"/static/bootstrap.min.css\">\n",
            "    <link rel=\"stylesheet\" href=\"/static/main.css\">\n",
            "</head>\n",
            "<body>\n",
            "    <div class=\"container\">\n",
            "        <div class=\"row header-box\">\n",
            "            <div class=\"col-md-8\">\n",
            "                <h1>\n",
            "                    <a href=\"/\" style=\"text-decoration: none\">Quotes to Scrape</a>\n",
            "                </h1>\n",
            "            </div>\n",
            "            <div class=\"col-md-4\">\n",
            "                <p>\n",
            "                \n",
            "                    <a href=\"/login\">Login</a>\n",
            "                \n",
            "                </p>\n",
            "            </div>\n",
            "        </div>\n",
            "    \n",
            "<div class=\"row\">\n",
            "    <div class=\"col-md-8\">\n",
            "        <div class=\"quotes\"><div class=\"quote\"><span class=\"text\">“The world as we have created it is a process of our thinking. It cannot be changed without changing our thinking.”</span><span>by <small class=\"author\">Albert Einstein</small></span><div class=\"tags\">Tags: <a class=\"tag\">change</a> <a class=\"tag\">deep-thoughts</a> <a class=\"tag\">thinking</a> <a class=\"tag\">world</a></div></div><div class=\"quote\"><span class=\"text\">“It is our choices, Harry, that show what we truly are, far more than our abilities.”</span><span>by <small class=\"author\">J.K. Rowling</small></span><div class=\"tags\">Tags: <a class=\"tag\">abilities</a> <a class=\"tag\">choices</a></div></div><div class=\"quote\"><span class=\"text\">“There are only two ways to live your life. One is as though nothing is a miracle. The other is as though everything is a miracle.”</span><span>by <small class=\"author\">Albert Einstein</small></span><div class=\"tags\">Tags: <a class=\"tag\">inspirational</a> <a class=\"tag\">life</a> <a class=\"tag\">live</a> <a class=\"tag\">miracle</a> <a class=\"tag\">miracles</a></div></div><div class=\"quote\"><span class=\"text\">“The person, be it gentleman or lady, who has not pleasure in a good novel, must be intolerably stupid.”</span><span>by <small class=\"author\">Jane Austen</small></span><div class=\"tags\">Tags: <a class=\"tag\">aliteracy</a> <a class=\"tag\">books</a> <a class=\"tag\">classic</a> <a class=\"tag\">humor</a></div></div><div class=\"quote\"><span class=\"text\">“Imperfection is beauty, madness is genius and it's better to be absolutely ridiculous than absolutely boring.”</span><span>by <small class=\"author\">Marilyn Monroe</small></span><div class=\"tags\">Tags: <a class=\"tag\">be-yourself</a> <a class=\"tag\">inspirational</a></div></div><div class=\"quote\"><span class=\"text\">“Try not to become a man of success. Rather become a man of value.”</span><span>by <small class=\"author\">Albert Einstein</small></span><div class=\"tags\">Tags: <a class=\"tag\">adulthood</a> <a class=\"tag\">success</a> <a class=\"tag\">value</a></div></div><div class=\"quote\"><span class=\"text\">“It is better to be hated for what you are than to be loved for what you are not.”</span><span>by <small class=\"author\">André Gide</small></span><div class=\"tags\">Tags: <a class=\"tag\">life</a> <a class=\"tag\">love</a></div></div><div class=\"quote\"><span class=\"text\">“I have not failed. I've just found 10,000 ways that won't work.”</span><span>by <small class=\"author\">Thomas A. Edison</small></span><div class=\"tags\">Tags: <a class=\"tag\">edison</a> <a class=\"tag\">failure</a> <a class=\"tag\">inspirational</a> <a class=\"tag\">paraphrased</a></div></div><div class=\"quote\"><span class=\"text\">“A woman is like a tea bag; you never know how strong it is until it's in hot water.”</span><span>by <small class=\"author\">Eleanor Roosevelt</small></span><div class=\"tags\">Tags: <a class=\"tag\">misattributed-eleanor-roosevelt</a></div></div><div class=\"quote\"><span class=\"text\">“A day without sunshine is like, you know, night.”</span><span>by <small class=\"author\">Steve Martin</small></span><div class=\"tags\">Tags: <a class=\"tag\">humor</a> <a class=\"tag\">obvious</a> <a class=\"tag\">simile</a></div></div></div>\n",
            "    </div>\n",
            "</div>\n",
            "<div id=\"loading\" style=\"background-color: rgb(238, 238, 204); overflow: hidden; height: 37.8201px; padding: 0px; margin: 0px; width: 1077.87px; opacity: 0.945503;\"><h5>Loading...</h5></div>\n",
            "<script src=\"/static/jquery.js\"></script>\n",
            "<script>\n",
            "    $(function(){\n",
            "        var page = 1, tag = null, hasNextPage = true;\n",
            "        function appendQuotes(quotes) {\n",
            "            var $quotes = $('.quotes');\n",
            "            var html = $.map(quotes, function(d){\n",
            "                var tags = $.map(d['tags'], function(t) {\n",
            "                    return \"<a class='tag'>\" + t + \"</a>\";\n",
            "                }).join(\" \");\n",
            "                return \"<div class='quote'><span class='text'>\" + d['text'] + \"</span><span>by <small class='author'>\" + d['author']['name'] + \"</small></span><div class='tags'>Tags: \" + tags + \"</div></div>\";\n",
            "            });\n",
            "\n",
            "            $quotes.append(html);\n",
            "        }\n",
            "\n",
            "        function updatePage(page) {\n",
            "            $('#loading').show('fast');\n",
            "            $.get('/api/quotes', {page: page}).done(function(data) {\n",
            "                appendQuotes(data.quotes);\n",
            "                hasNextPage = data.has_next;\n",
            "                $('#loading').hide('fast');\n",
            "            });\n",
            "        }\n",
            "        updatePage(page);\n",
            "        $(window).on('scroll', function(){\n",
            "            var scrollTop = $(window).scrollTop();\n",
            "            var heightDiff = $(document).height() - $(window).height();\n",
            "            if (hasNextPage && Math.abs(scrollTop - heightDiff) <= 1){\n",
            "                page += 1;\n",
            "                console.log('scrolling to page: ' + page);\n",
            "                updatePage(page);\n",
            "            }\n",
            "        });\n",
            "    });\n",
            "</script>\n",
            "\n",
            "    </div>\n",
            "    <footer class=\"footer\">\n",
            "        <div class=\"container\">\n",
            "            <p class=\"text-muted\">\n",
            "                Quotes by: <a href=\"https://www.goodreads.com/quotes\">GoodReads.com</a>\n",
            "            </p>\n",
            "            <p class=\"copyright\">\n",
            "                Made with <span class=\"zyte\">❤</span> by <a class=\"zyte\" href=\"https://www.zyte.com\">Zyte</a>\n",
            "            </p>\n",
            "        </div>\n",
            "    </footer>\n",
            "\n",
            "</body></html>\n"
          ]
        }
      ]
    },
    {
      "cell_type": "markdown",
      "source": [
        "### Get Quotes"
      ],
      "metadata": {
        "id": "NN68sqFf24cw"
      }
    },
    {
      "cell_type": "code",
      "source": [
        "#find elements with a div tag and quote class\n",
        "quotes = driver.find_elements(By.XPATH,\"//div[@class='quote']\")\n",
        "quotes"
      ],
      "metadata": {
        "colab": {
          "base_uri": "https://localhost:8080/"
        },
        "id": "7derktkW26E8",
        "outputId": "72cf55c9-79b0-4c59-c8ec-651ceae1b607"
      },
      "execution_count": null,
      "outputs": [
        {
          "output_type": "execute_result",
          "data": {
            "text/plain": [
              "[<selenium.webdriver.remote.webelement.WebElement (session=\"5e65569ce33fddd042d9be363fdb09a4\", element=\"f.E20FDE0D65EBD12754C05866A1723FCC.d.B66D11A380A78ABE030E78DEFA9A9A73.e.10\")>,\n",
              " <selenium.webdriver.remote.webelement.WebElement (session=\"5e65569ce33fddd042d9be363fdb09a4\", element=\"f.E20FDE0D65EBD12754C05866A1723FCC.d.B66D11A380A78ABE030E78DEFA9A9A73.e.11\")>,\n",
              " <selenium.webdriver.remote.webelement.WebElement (session=\"5e65569ce33fddd042d9be363fdb09a4\", element=\"f.E20FDE0D65EBD12754C05866A1723FCC.d.B66D11A380A78ABE030E78DEFA9A9A73.e.12\")>,\n",
              " <selenium.webdriver.remote.webelement.WebElement (session=\"5e65569ce33fddd042d9be363fdb09a4\", element=\"f.E20FDE0D65EBD12754C05866A1723FCC.d.B66D11A380A78ABE030E78DEFA9A9A73.e.13\")>,\n",
              " <selenium.webdriver.remote.webelement.WebElement (session=\"5e65569ce33fddd042d9be363fdb09a4\", element=\"f.E20FDE0D65EBD12754C05866A1723FCC.d.B66D11A380A78ABE030E78DEFA9A9A73.e.14\")>,\n",
              " <selenium.webdriver.remote.webelement.WebElement (session=\"5e65569ce33fddd042d9be363fdb09a4\", element=\"f.E20FDE0D65EBD12754C05866A1723FCC.d.B66D11A380A78ABE030E78DEFA9A9A73.e.9\")>,\n",
              " <selenium.webdriver.remote.webelement.WebElement (session=\"5e65569ce33fddd042d9be363fdb09a4\", element=\"f.E20FDE0D65EBD12754C05866A1723FCC.d.B66D11A380A78ABE030E78DEFA9A9A73.e.15\")>,\n",
              " <selenium.webdriver.remote.webelement.WebElement (session=\"5e65569ce33fddd042d9be363fdb09a4\", element=\"f.E20FDE0D65EBD12754C05866A1723FCC.d.B66D11A380A78ABE030E78DEFA9A9A73.e.16\")>,\n",
              " <selenium.webdriver.remote.webelement.WebElement (session=\"5e65569ce33fddd042d9be363fdb09a4\", element=\"f.E20FDE0D65EBD12754C05866A1723FCC.d.B66D11A380A78ABE030E78DEFA9A9A73.e.17\")>,\n",
              " <selenium.webdriver.remote.webelement.WebElement (session=\"5e65569ce33fddd042d9be363fdb09a4\", element=\"f.E20FDE0D65EBD12754C05866A1723FCC.d.B66D11A380A78ABE030E78DEFA9A9A73.e.18\")>]"
            ]
          },
          "metadata": {},
          "execution_count": 9
        }
      ]
    },
    {
      "cell_type": "code",
      "source": [
        "#length of quotes in browser\n",
        "len(quotes)"
      ],
      "metadata": {
        "colab": {
          "base_uri": "https://localhost:8080/"
        },
        "id": "Fx_9EVlF29Zk",
        "outputId": "a768acb9-4479-414b-e1dd-ef18846aae2f"
      },
      "execution_count": null,
      "outputs": [
        {
          "output_type": "execute_result",
          "data": {
            "text/plain": [
              "10"
            ]
          },
          "metadata": {},
          "execution_count": 10
        }
      ]
    },
    {
      "cell_type": "code",
      "source": [
        "#get text\n",
        "quotes[0].text"
      ],
      "metadata": {
        "colab": {
          "base_uri": "https://localhost:8080/",
          "height": 37
        },
        "id": "3k8d5w6r3QLN",
        "outputId": "49d1b191-d245-46dd-8dab-71745519c657"
      },
      "execution_count": null,
      "outputs": [
        {
          "output_type": "execute_result",
          "data": {
            "text/plain": [
              "'“The world as we have created it is a process of our thinking. It cannot be changed without changing our thinking.”\\nby Albert Einstein\\nTags: change deep-thoughts thinking world'"
            ],
            "application/vnd.google.colaboratory.intrinsic+json": {
              "type": "string"
            }
          },
          "metadata": {},
          "execution_count": 11
        }
      ]
    },
    {
      "cell_type": "code",
      "source": [
        "#get all quotes\n",
        "quotes_text = [quote.text for quote in quotes]\n",
        "quotes_text"
      ],
      "metadata": {
        "colab": {
          "base_uri": "https://localhost:8080/"
        },
        "id": "UsRmRxIc3Wmi",
        "outputId": "a5e98a04-3862-4f6a-ec0c-200a27868015"
      },
      "execution_count": null,
      "outputs": [
        {
          "output_type": "execute_result",
          "data": {
            "text/plain": [
              "['“The world as we have created it is a process of our thinking. It cannot be changed without changing our thinking.”\\nby Albert Einstein\\nTags: change deep-thoughts thinking world',\n",
              " '“It is our choices, Harry, that show what we truly are, far more than our abilities.”\\nby J.K. Rowling\\nTags: abilities choices',\n",
              " '“There are only two ways to live your life. One is as though nothing is a miracle. The other is as though everything is a miracle.”\\nby Albert Einstein\\nTags: inspirational life live miracle miracles',\n",
              " '“The person, be it gentleman or lady, who has not pleasure in a good novel, must be intolerably stupid.”\\nby Jane Austen\\nTags: aliteracy books classic humor',\n",
              " \"“Imperfection is beauty, madness is genius and it's better to be absolutely ridiculous than absolutely boring.”\\nby Marilyn Monroe\\nTags: be-yourself inspirational\",\n",
              " '“Try not to become a man of success. Rather become a man of value.”\\nby Albert Einstein\\nTags: adulthood success value',\n",
              " '“It is better to be hated for what you are than to be loved for what you are not.”\\nby André Gide\\nTags: life love',\n",
              " \"“I have not failed. I've just found 10,000 ways that won't work.”\\nby Thomas A. Edison\\nTags: edison failure inspirational paraphrased\",\n",
              " \"“A woman is like a tea bag; you never know how strong it is until it's in hot water.”\\nby Eleanor Roosevelt\\nTags: misattributed-eleanor-roosevelt\",\n",
              " '“A day without sunshine is like, you know, night.”\\nby Steve Martin\\nTags: humor obvious simile']"
            ]
          },
          "metadata": {},
          "execution_count": 12
        }
      ]
    },
    {
      "cell_type": "markdown",
      "source": [
        "### Choose specific parts of an element"
      ],
      "metadata": {
        "id": "bcBzw0Zn3vSa"
      }
    },
    {
      "cell_type": "code",
      "source": [
        "#get text\n",
        "quotes[0].find_element(By.XPATH, \"span[@class='text']\").text"
      ],
      "metadata": {
        "colab": {
          "base_uri": "https://localhost:8080/",
          "height": 37
        },
        "id": "AjJgy0cL3z7S",
        "outputId": "90517fa2-6f75-49a6-9034-4e8d41a07158"
      },
      "execution_count": null,
      "outputs": [
        {
          "output_type": "execute_result",
          "data": {
            "text/plain": [
              "'“The world as we have created it is a process of our thinking. It cannot be changed without changing our thinking.”'"
            ],
            "application/vnd.google.colaboratory.intrinsic+json": {
              "type": "string"
            }
          },
          "metadata": {},
          "execution_count": 13
        }
      ]
    },
    {
      "cell_type": "code",
      "source": [
        "#get authors\n",
        "quotes[0].find_element(By.XPATH, \".//small[@class='author']\").text"
      ],
      "metadata": {
        "colab": {
          "base_uri": "https://localhost:8080/",
          "height": 37
        },
        "id": "aFsQhSZg3_Kz",
        "outputId": "df03dbb0-af58-42c4-df19-d3b19116ff03"
      },
      "execution_count": null,
      "outputs": [
        {
          "output_type": "execute_result",
          "data": {
            "text/plain": [
              "'Albert Einstein'"
            ],
            "application/vnd.google.colaboratory.intrinsic+json": {
              "type": "string"
            }
          },
          "metadata": {},
          "execution_count": 14
        }
      ]
    },
    {
      "cell_type": "code",
      "source": [
        "#get list of tags\n",
        "tags = quotes[0].find_elements(By.XPATH, \".//a[@class='tag']\")\n",
        "list_of_tags= [tag.text for tag in tags]\n",
        "list_of_tags"
      ],
      "metadata": {
        "colab": {
          "base_uri": "https://localhost:8080/"
        },
        "id": "YPxTKDzi4EMP",
        "outputId": "37a985b9-05fe-4d89-f8cc-6ba0cfd63113"
      },
      "execution_count": null,
      "outputs": [
        {
          "output_type": "execute_result",
          "data": {
            "text/plain": [
              "['change', 'deep-thoughts', 'thinking', 'world']"
            ]
          },
          "metadata": {},
          "execution_count": 15
        }
      ]
    },
    {
      "cell_type": "markdown",
      "source": [
        "### Get all parts"
      ],
      "metadata": {
        "id": "e7uPjL8t9Qz5"
      }
    },
    {
      "cell_type": "code",
      "source": [
        "#QUOTES\n",
        "\n",
        "import time\n",
        "\n",
        "pause = 0.5\n",
        "lastHeight = driver.execute_script(\"return document.body.scrollHeight\")\n",
        "\n",
        "while True:\n",
        "    driver.execute_script(\"window.scrollTo(0,document.body.scrollHeight);\")\n",
        "    time.sleep(pause)\n",
        "    newHeight=driver.execute_script(\"return document.body.scrollHeight\")\n",
        "    if newHeight == lastHeight:\n",
        "      break\n",
        "    lastHeight= newHeight"
      ],
      "metadata": {
        "id": "Nnf_SnQT42Gb"
      },
      "execution_count": null,
      "outputs": []
    },
    {
      "cell_type": "code",
      "source": [
        "#len of quotes\n",
        "quotes = driver.find_elements(By.XPATH, \"//div[@class='quote']\")\n",
        "len(quotes)"
      ],
      "metadata": {
        "colab": {
          "base_uri": "https://localhost:8080/"
        },
        "id": "8cj_Buxe4-f_",
        "outputId": "6d8c3b48-ec67-41b1-aee9-f4200164aa61"
      },
      "execution_count": null,
      "outputs": [
        {
          "output_type": "execute_result",
          "data": {
            "text/plain": [
              "100"
            ]
          },
          "metadata": {},
          "execution_count": 17
        }
      ]
    },
    {
      "cell_type": "code",
      "source": [
        "quotes[0].text"
      ],
      "metadata": {
        "colab": {
          "base_uri": "https://localhost:8080/",
          "height": 37
        },
        "id": "1J9ChvX--IIY",
        "outputId": "639883f3-d467-468f-b6bb-79b8cb0a89c4"
      },
      "execution_count": null,
      "outputs": [
        {
          "output_type": "execute_result",
          "data": {
            "text/plain": [
              "'“The world as we have created it is a process of our thinking. It cannot be changed without changing our thinking.”\\nby Albert Einstein\\nTags: change deep-thoughts thinking world'"
            ],
            "application/vnd.google.colaboratory.intrinsic+json": {
              "type": "string"
            }
          },
          "metadata": {},
          "execution_count": 18
        }
      ]
    },
    {
      "cell_type": "markdown",
      "source": [
        "### Loop"
      ],
      "metadata": {
        "id": "nR5XTUWP5QUI"
      }
    },
    {
      "cell_type": "code",
      "source": [
        "#extract all quotes\n",
        "#quotes\n",
        "all_quotes = [0] * 100\n",
        "index = 0\n",
        "while index < 100:\n",
        "  all_quotes[index] = quotes[index].find_element(By.XPATH, \"span[@class='text']\").text\n",
        "  index = index + 1\n",
        "\n",
        "#loop through 100 quotes\n",
        "index = 0\n",
        "while index < 100:\n",
        "    print(all_quotes[index])\n",
        "    index = index + 1"
      ],
      "metadata": {
        "colab": {
          "base_uri": "https://localhost:8080/"
        },
        "id": "DxJcdpJl5RC5",
        "outputId": "e05f9538-447b-4a46-a465-388df742cc73"
      },
      "execution_count": null,
      "outputs": [
        {
          "output_type": "stream",
          "name": "stdout",
          "text": [
            "“The world as we have created it is a process of our thinking. It cannot be changed without changing our thinking.”\n",
            "“It is our choices, Harry, that show what we truly are, far more than our abilities.”\n",
            "“There are only two ways to live your life. One is as though nothing is a miracle. The other is as though everything is a miracle.”\n",
            "“The person, be it gentleman or lady, who has not pleasure in a good novel, must be intolerably stupid.”\n",
            "“Imperfection is beauty, madness is genius and it's better to be absolutely ridiculous than absolutely boring.”\n",
            "“Try not to become a man of success. Rather become a man of value.”\n",
            "“It is better to be hated for what you are than to be loved for what you are not.”\n",
            "“I have not failed. I've just found 10,000 ways that won't work.”\n",
            "“A woman is like a tea bag; you never know how strong it is until it's in hot water.”\n",
            "“A day without sunshine is like, you know, night.”\n",
            "“This life is what you make it. No matter what, you're going to mess up sometimes, it's a universal truth. But the good part is you get to decide how you're going to mess it up. Girls will be your friends - they'll act like it anyway. But just remember, some come, some go. The ones that stay with you through everything - they're your true best friends. Don't let go of them. Also remember, sisters make the best friends in the world. As for lovers, well, they'll come and go too. And baby, I hate to say it, most of them - actually pretty much all of them are going to break your heart, but you can't give up because if you give up, you'll never find your soulmate. You'll never find that half who makes you whole and that goes for everything. Just because you fail once, doesn't mean you're gonna fail at everything. Keep trying, hold on, and always, always, always believe in yourself, because if you don't, then who will, sweetie? So keep your head high, keep your chin up, and most importantly, keep smiling, because life's a beautiful thing and there's so much to smile about.”\n",
            "“It takes a great deal of bravery to stand up to our enemies, but just as much to stand up to our friends.”\n",
            "“If you can't explain it to a six year old, you don't understand it yourself.”\n",
            "“You may not be her first, her last, or her only. She loved before she may love again. But if she loves you now, what else matters? She's not perfect—you aren't either, and the two of you may never be perfect together but if she can make you laugh, cause you to think twice, and admit to being human and making mistakes, hold onto her and give her the most you can. She may not be thinking about you every second of the day, but she will give you a part of her that she knows you can break—her heart. So don't hurt her, don't change her, don't analyze and don't expect more than she can give. Smile when she makes you happy, let her know when she makes you mad, and miss her when she's not there.”\n",
            "“I like nonsense, it wakes up the brain cells. Fantasy is a necessary ingredient in living.”\n",
            "“I may not have gone where I intended to go, but I think I have ended up where I needed to be.”\n",
            "“The opposite of love is not hate, it's indifference. The opposite of art is not ugliness, it's indifference. The opposite of faith is not heresy, it's indifference. And the opposite of life is not death, it's indifference.”\n",
            "“It is not a lack of love, but a lack of friendship that makes unhappy marriages.”\n",
            "“Good friends, good books, and a sleepy conscience: this is the ideal life.”\n",
            "“Life is what happens to us while we are making other plans.”\n",
            "“I love you without knowing how, or when, or from where. I love you simply, without problems or pride: I love you in this way because I do not know any other way of loving but this, in which there is no I or you, so intimate that your hand upon my chest is my hand, so intimate that when I fall asleep your eyes close.”\n",
            "“For every minute you are angry you lose sixty seconds of happiness.”\n",
            "“If you judge people, you have no time to love them.”\n",
            "“Anyone who thinks sitting in church can make you a Christian must also think that sitting in a garage can make you a car.”\n",
            "“Beauty is in the eye of the beholder and it may be necessary from time to time to give a stupid or misinformed beholder a black eye.”\n",
            "“Today you are You, that is truer than true. There is no one alive who is Youer than You.”\n",
            "“If you want your children to be intelligent, read them fairy tales. If you want them to be more intelligent, read them more fairy tales.”\n",
            "“It is impossible to live without failing at something, unless you live so cautiously that you might as well not have lived at all - in which case, you fail by default.”\n",
            "“Logic will get you from A to Z; imagination will get you everywhere.”\n",
            "“One good thing about music, when it hits you, you feel no pain.”\n",
            "“The more that you read, the more things you will know. The more that you learn, the more places you'll go.”\n",
            "“Of course it is happening inside your head, Harry, but why on earth should that mean that it is not real?”\n",
            "“The truth is, everyone is going to hurt you. You just got to find the ones worth suffering for.”\n",
            "“Not all of us can do great things. But we can do small things with great love.”\n",
            "“To the well-organized mind, death is but the next great adventure.”\n",
            "“All you need is love. But a little chocolate now and then doesn't hurt.”\n",
            "“We read to know we're not alone.”\n",
            "“Any fool can know. The point is to understand.”\n",
            "“I have always imagined that Paradise will be a kind of library.”\n",
            "“It is never too late to be what you might have been.”\n",
            "“A reader lives a thousand lives before he dies, said Jojen. The man who never reads lives only one.”\n",
            "“You can never get a cup of tea large enough or a book long enough to suit me.”\n",
            "“You believe lies so you eventually learn to trust no one but yourself.”\n",
            "“If you can make a woman laugh, you can make her do anything.”\n",
            "“Life is like riding a bicycle. To keep your balance, you must keep moving.”\n",
            "“The real lover is the man who can thrill you by kissing your forehead or smiling into your eyes or just staring into space.”\n",
            "“A wise girl kisses but doesn't love, listens but doesn't believe, and leaves before she is left.”\n",
            "“Only in the darkness can you see the stars.”\n",
            "“It matters not what someone is born, but what they grow to be.”\n",
            "“Love does not begin and end the way we seem to think it does. Love is a battle, love is a war; love is a growing up.”\n",
            "“There is nothing I would not do for those who are really my friends. I have no notion of loving people by halves, it is not my nature.”\n",
            "“Do one thing every day that scares you.”\n",
            "“I am good, but not an angel. I do sin, but I am not the devil. I am just a small girl in a big world trying to find someone to love.”\n",
            "“If I were not a physicist, I would probably be a musician. I often think in music. I live my daydreams in music. I see my life in terms of music.”\n",
            "“If you only read the books that everyone else is reading, you can only think what everyone else is thinking.”\n",
            "“The difference between genius and stupidity is: genius has its limits.”\n",
            "“He's like a drug for you, Bella.”\n",
            "“There is no friend as loyal as a book.”\n",
            "“When one door of happiness closes, another opens; but often we look so long at the closed door that we do not see the one which has been opened for us.”\n",
            "“Life isn't about finding yourself. Life is about creating yourself.”\n",
            "“That's the problem with drinking, I thought, as I poured myself a drink. If something bad happens you drink in an attempt to forget; if something good happens you drink in order to celebrate; and if nothing happens you drink to make something happen.”\n",
            "“You don’t forget the face of the person who was your last hope.”\n",
            "“Remember, we're madly in love, so it's all right to kiss me anytime you feel like it.”\n",
            "“To love at all is to be vulnerable. Love anything and your heart will be wrung and possibly broken. If you want to make sure of keeping it intact you must give it to no one, not even an animal. Wrap it carefully round with hobbies and little luxuries; avoid all entanglements. Lock it up safe in the casket or coffin of your selfishness. But in that casket, safe, dark, motionless, airless, it will change. It will not be broken; it will become unbreakable, impenetrable, irredeemable. To love is to be vulnerable.”\n",
            "“Not all those who wander are lost.”\n",
            "“Do not pity the dead, Harry. Pity the living, and, above all those who live without love.”\n",
            "“There is nothing to writing. All you do is sit down at a typewriter and bleed.”\n",
            "“Finish each day and be done with it. You have done what you could. Some blunders and absurdities no doubt crept in; forget them as soon as you can. Tomorrow is a new day. You shall begin it serenely and with too high a spirit to be encumbered with your old nonsense.”\n",
            "“I have never let my schooling interfere with my education.”\n",
            "“I have heard there are troubles of more than one kind. Some come from ahead and some come from behind. But I've bought a big bat. I'm all ready you see. Now my troubles are going to have troubles with me!”\n",
            "“If I had a flower for every time I thought of you...I could walk through my garden forever.”\n",
            "“Some people never go crazy. What truly horrible lives they must lead.”\n",
            "“The trouble with having an open mind, of course, is that people will insist on coming along and trying to put things in it.”\n",
            "“Think left and think right and think low and think high. Oh, the thinks you can think up if only you try!”\n",
            "“What really knocks me out is a book that, when you're all done reading it, you wish the author that wrote it was a terrific friend of yours and you could call him up on the phone whenever you felt like it. That doesn't happen much, though.”\n",
            "“The reason I talk to myself is because I’m the only one whose answers I accept.”\n",
            "“You may say I'm a dreamer, but I'm not the only one. I hope someday you'll join us. And the world will live as one.”\n",
            "“I am free of all prejudice. I hate everyone equally. ”\n",
            "“The question isn't who is going to let me; it's who is going to stop me.”\n",
            "“′Classic′ - a book which people praise and don't read.”\n",
            "“Anyone who has never made a mistake has never tried anything new.”\n",
            "“A lady's imagination is very rapid; it jumps from admiration to love, from love to matrimony in a moment.”\n",
            "“Remember, if the time should come when you have to make a choice between what is right and what is easy, remember what happened to a boy who was good, and kind, and brave, because he strayed across the path of Lord Voldemort. Remember Cedric Diggory.”\n",
            "“I declare after all there is no enjoyment like reading! How much sooner one tires of any thing than of a book! -- When I have a house of my own, I shall be miserable if I have not an excellent library.”\n",
            "“There are few people whom I really love, and still fewer of whom I think well. The more I see of the world, the more am I dissatisfied with it; and every day confirms my belief of the inconsistency of all human characters, and of the little dependence that can be placed on the appearance of merit or sense.”\n",
            "“Some day you will be old enough to start reading fairy tales again.”\n",
            "“We are not necessarily doubting that God will do the best for us; we are wondering how painful the best will turn out to be.”\n",
            "“The fear of death follows from the fear of life. A man who lives fully is prepared to die at any time.”\n",
            "“A lie can travel half way around the world while the truth is putting on its shoes.”\n",
            "“I believe in Christianity as I believe that the sun has risen: not only because I see it, but because by it I see everything else.”\n",
            "“The truth.\" Dumbledore sighed. \"It is a beautiful and terrible thing, and should therefore be treated with great caution.”\n",
            "“I'm the one that's got to die when it's time for me to die, so let me live my life the way I want to.”\n",
            "“To die will be an awfully big adventure.”\n",
            "“It takes courage to grow up and become who you really are.”\n",
            "“But better to get hurt by the truth than comforted with a lie.”\n",
            "“You never really understand a person until you consider things from his point of view... Until you climb inside of his skin and walk around in it.”\n",
            "“You have to write the book that wants to be written. And if the book will be too difficult for grown-ups, then you write it for children.”\n",
            "“Never tell the truth to people who are not worthy of it.”\n",
            "“A person's a person, no matter how small.”\n",
            "“... a mind needs books as a sword needs a whetstone, if it is to keep its edge.”\n"
          ]
        }
      ]
    },
    {
      "cell_type": "code",
      "source": [
        "len(all_quotes)"
      ],
      "metadata": {
        "colab": {
          "base_uri": "https://localhost:8080/"
        },
        "id": "D0d6Bsg26hM3",
        "outputId": "fd482acf-916c-45a7-c834-2fe9699f4354"
      },
      "execution_count": null,
      "outputs": [
        {
          "output_type": "execute_result",
          "data": {
            "text/plain": [
              "100"
            ]
          },
          "metadata": {},
          "execution_count": 20
        }
      ]
    },
    {
      "cell_type": "code",
      "source": [
        "#extract all authors\n",
        "#authors\n",
        "authors = [0] * 100\n",
        "index = 0\n",
        "while index < 100:\n",
        "  authors[index] = quotes[index].find_element(By.XPATH, \".//small[@class='author']\").text\n",
        "  index = index + 1\n",
        "\n",
        "#loop through 100 quotes\n",
        "index = 0\n",
        "while index < 100:\n",
        "    print(authors[index])\n",
        "    index = index + 1"
      ],
      "metadata": {
        "colab": {
          "base_uri": "https://localhost:8080/"
        },
        "id": "9hUtKBr6-uNT",
        "outputId": "04e40954-b809-479b-9a38-8c6a723c65fa"
      },
      "execution_count": null,
      "outputs": [
        {
          "output_type": "stream",
          "name": "stdout",
          "text": [
            "Albert Einstein\n",
            "J.K. Rowling\n",
            "Albert Einstein\n",
            "Jane Austen\n",
            "Marilyn Monroe\n",
            "Albert Einstein\n",
            "André Gide\n",
            "Thomas A. Edison\n",
            "Eleanor Roosevelt\n",
            "Steve Martin\n",
            "Marilyn Monroe\n",
            "J.K. Rowling\n",
            "Albert Einstein\n",
            "Bob Marley\n",
            "Dr. Seuss\n",
            "Douglas Adams\n",
            "Elie Wiesel\n",
            "Friedrich Nietzsche\n",
            "Mark Twain\n",
            "Allen Saunders\n",
            "Pablo Neruda\n",
            "Ralph Waldo Emerson\n",
            "Mother Teresa\n",
            "Garrison Keillor\n",
            "Jim Henson\n",
            "Dr. Seuss\n",
            "Albert Einstein\n",
            "J.K. Rowling\n",
            "Albert Einstein\n",
            "Bob Marley\n",
            "Dr. Seuss\n",
            "J.K. Rowling\n",
            "Bob Marley\n",
            "Mother Teresa\n",
            "J.K. Rowling\n",
            "Charles M. Schulz\n",
            "William Nicholson\n",
            "Albert Einstein\n",
            "Jorge Luis Borges\n",
            "George Eliot\n",
            "George R.R. Martin\n",
            "C.S. Lewis\n",
            "Marilyn Monroe\n",
            "Marilyn Monroe\n",
            "Albert Einstein\n",
            "Marilyn Monroe\n",
            "Marilyn Monroe\n",
            "Martin Luther King Jr.\n",
            "J.K. Rowling\n",
            "James Baldwin\n",
            "Jane Austen\n",
            "Eleanor Roosevelt\n",
            "Marilyn Monroe\n",
            "Albert Einstein\n",
            "Haruki Murakami\n",
            "Alexandre Dumas fils\n",
            "Stephenie Meyer\n",
            "Ernest Hemingway\n",
            "Helen Keller\n",
            "George Bernard Shaw\n",
            "Charles Bukowski\n",
            "Suzanne Collins\n",
            "Suzanne Collins\n",
            "C.S. Lewis\n",
            "J.R.R. Tolkien\n",
            "J.K. Rowling\n",
            "Ernest Hemingway\n",
            "Ralph Waldo Emerson\n",
            "Mark Twain\n",
            "Dr. Seuss\n",
            "Alfred Tennyson\n",
            "Charles Bukowski\n",
            "Terry Pratchett\n",
            "Dr. Seuss\n",
            "J.D. Salinger\n",
            "George Carlin\n",
            "John Lennon\n",
            "W.C. Fields\n",
            "Ayn Rand\n",
            "Mark Twain\n",
            "Albert Einstein\n",
            "Jane Austen\n",
            "J.K. Rowling\n",
            "Jane Austen\n",
            "Jane Austen\n",
            "C.S. Lewis\n",
            "C.S. Lewis\n",
            "Mark Twain\n",
            "Mark Twain\n",
            "C.S. Lewis\n",
            "J.K. Rowling\n",
            "Jimi Hendrix\n",
            "J.M. Barrie\n",
            "E.E. Cummings\n",
            "Khaled Hosseini\n",
            "Harper Lee\n",
            "Madeleine L'Engle\n",
            "Mark Twain\n",
            "Dr. Seuss\n",
            "George R.R. Martin\n"
          ]
        }
      ]
    },
    {
      "cell_type": "code",
      "source": [
        "#extract all tags\n",
        "#tags\n",
        "\n",
        "tags = [0] * 100\n",
        "index = 0\n",
        "list_tags = [0] * 100\n",
        "while index < 100:\n",
        "  tags[index] = quotes[index].find_elements(By.XPATH, \".//a[@class='tag']\")\n",
        "  list_tags[index] = [tag.text for tag in tags[index]]\n",
        "  index = index + 1\n",
        "list_tags"
      ],
      "metadata": {
        "colab": {
          "base_uri": "https://localhost:8080/"
        },
        "id": "Zw4fwdYu75RF",
        "outputId": "3ea90015-6067-47db-d2c9-70ebbb118baf"
      },
      "execution_count": null,
      "outputs": [
        {
          "output_type": "execute_result",
          "data": {
            "text/plain": [
              "[['change', 'deep-thoughts', 'thinking', 'world'],\n",
              " ['abilities', 'choices'],\n",
              " ['inspirational', 'life', 'live', 'miracle', 'miracles'],\n",
              " ['aliteracy', 'books', 'classic', 'humor'],\n",
              " ['be-yourself', 'inspirational'],\n",
              " ['adulthood', 'success', 'value'],\n",
              " ['life', 'love'],\n",
              " ['edison', 'failure', 'inspirational', 'paraphrased'],\n",
              " ['misattributed-eleanor-roosevelt'],\n",
              " ['humor', 'obvious', 'simile'],\n",
              " ['friends', 'heartbreak', 'inspirational', 'life', 'love', 'sisters'],\n",
              " ['courage', 'friends'],\n",
              " ['simplicity', 'understand'],\n",
              " ['love'],\n",
              " ['fantasy'],\n",
              " ['life', 'navigation'],\n",
              " ['activism',\n",
              "  'apathy',\n",
              "  'hate',\n",
              "  'indifference',\n",
              "  'inspirational',\n",
              "  'love',\n",
              "  'opposite',\n",
              "  'philosophy'],\n",
              " ['friendship',\n",
              "  'lack-of-friendship',\n",
              "  'lack-of-love',\n",
              "  'love',\n",
              "  'marriage',\n",
              "  'unhappy-marriage'],\n",
              " ['books', 'contentment', 'friends', 'friendship', 'life'],\n",
              " ['fate', 'life', 'misattributed-john-lennon', 'planning', 'plans'],\n",
              " ['love', 'poetry'],\n",
              " ['happiness'],\n",
              " ['attributed-no-source'],\n",
              " ['humor', 'religion'],\n",
              " ['humor'],\n",
              " ['comedy', 'life', 'yourself'],\n",
              " ['children', 'fairy-tales'],\n",
              " [],\n",
              " ['imagination'],\n",
              " ['music'],\n",
              " ['learning', 'reading', 'seuss'],\n",
              " ['dumbledore'],\n",
              " ['friendship'],\n",
              " ['misattributed-to-mother-teresa', 'paraphrased'],\n",
              " ['death', 'inspirational'],\n",
              " ['chocolate', 'food', 'humor'],\n",
              " ['misattributed-to-c-s-lewis', 'reading'],\n",
              " ['knowledge', 'learning', 'understanding', 'wisdom'],\n",
              " ['books', 'library'],\n",
              " ['inspirational'],\n",
              " ['read', 'readers', 'reading', 'reading-books'],\n",
              " ['books', 'inspirational', 'reading', 'tea'],\n",
              " [],\n",
              " ['girls', 'love'],\n",
              " ['life', 'simile'],\n",
              " ['love'],\n",
              " ['attributed-no-source'],\n",
              " ['hope', 'inspirational'],\n",
              " ['dumbledore'],\n",
              " ['love'],\n",
              " ['friendship', 'love'],\n",
              " ['attributed', 'fear', 'inspiration'],\n",
              " ['attributed-no-source'],\n",
              " ['music'],\n",
              " ['books', 'thought'],\n",
              " ['misattributed-to-einstein'],\n",
              " ['drug', 'romance', 'simile'],\n",
              " ['books', 'friends', 'novelist-quotes'],\n",
              " ['inspirational'],\n",
              " ['inspirational', 'life', 'yourself'],\n",
              " ['alcohol'],\n",
              " ['the-hunger-games'],\n",
              " ['humor'],\n",
              " ['love'],\n",
              " ['bilbo', 'journey', 'lost', 'quest', 'travel', 'wander'],\n",
              " ['live-death-love'],\n",
              " ['good', 'writing'],\n",
              " ['life', 'regrets'],\n",
              " ['education'],\n",
              " ['troubles'],\n",
              " ['friendship', 'love'],\n",
              " ['humor'],\n",
              " ['humor', 'open-mind', 'thinking'],\n",
              " ['humor', 'philosophy'],\n",
              " ['authors', 'books', 'literature', 'reading', 'writing'],\n",
              " ['humor', 'insanity', 'lies', 'lying', 'self-indulgence', 'truth'],\n",
              " ['beatles',\n",
              "  'connection',\n",
              "  'dreamers',\n",
              "  'dreaming',\n",
              "  'dreams',\n",
              "  'hope',\n",
              "  'inspirational',\n",
              "  'peace'],\n",
              " ['humor', 'sinister'],\n",
              " [],\n",
              " ['books', 'classic', 'reading'],\n",
              " ['mistakes'],\n",
              " ['humor', 'love', 'romantic', 'women'],\n",
              " ['integrity'],\n",
              " ['books', 'library', 'reading'],\n",
              " ['elizabeth-bennet', 'jane-austen'],\n",
              " ['age', 'fairytales', 'growing-up'],\n",
              " ['god'],\n",
              " ['death', 'life'],\n",
              " ['misattributed-mark-twain', 'truth'],\n",
              " ['christianity', 'faith', 'religion', 'sun'],\n",
              " ['truth'],\n",
              " ['death', 'life'],\n",
              " ['adventure', 'love'],\n",
              " ['courage'],\n",
              " ['life'],\n",
              " ['better-life-empathy'],\n",
              " ['books',\n",
              "  'children',\n",
              "  'difficult',\n",
              "  'grown-ups',\n",
              "  'write',\n",
              "  'writers',\n",
              "  'writing'],\n",
              " ['truth'],\n",
              " ['inspirational'],\n",
              " ['books', 'mind']]"
            ]
          },
          "metadata": {},
          "execution_count": 22
        }
      ]
    },
    {
      "cell_type": "markdown",
      "source": [
        "### Save into DataFrame"
      ],
      "metadata": {
        "id": "5e80D-rjBhtI"
      }
    },
    {
      "cell_type": "code",
      "source": [
        "list_of_quotes = list(zip(authors, list_tags, all_quotes))\n",
        "list_of_quotes"
      ],
      "metadata": {
        "colab": {
          "base_uri": "https://localhost:8080/"
        },
        "id": "-24lzzG_Bk78",
        "outputId": "100d733b-71d0-4cf1-8613-caf5a67df4ab"
      },
      "execution_count": null,
      "outputs": [
        {
          "output_type": "execute_result",
          "data": {
            "text/plain": [
              "[('Albert Einstein',\n",
              "  ['change', 'deep-thoughts', 'thinking', 'world'],\n",
              "  '“The world as we have created it is a process of our thinking. It cannot be changed without changing our thinking.”'),\n",
              " ('J.K. Rowling',\n",
              "  ['abilities', 'choices'],\n",
              "  '“It is our choices, Harry, that show what we truly are, far more than our abilities.”'),\n",
              " ('Albert Einstein',\n",
              "  ['inspirational', 'life', 'live', 'miracle', 'miracles'],\n",
              "  '“There are only two ways to live your life. One is as though nothing is a miracle. The other is as though everything is a miracle.”'),\n",
              " ('Jane Austen',\n",
              "  ['aliteracy', 'books', 'classic', 'humor'],\n",
              "  '“The person, be it gentleman or lady, who has not pleasure in a good novel, must be intolerably stupid.”'),\n",
              " ('Marilyn Monroe',\n",
              "  ['be-yourself', 'inspirational'],\n",
              "  \"“Imperfection is beauty, madness is genius and it's better to be absolutely ridiculous than absolutely boring.”\"),\n",
              " ('Albert Einstein',\n",
              "  ['adulthood', 'success', 'value'],\n",
              "  '“Try not to become a man of success. Rather become a man of value.”'),\n",
              " ('André Gide',\n",
              "  ['life', 'love'],\n",
              "  '“It is better to be hated for what you are than to be loved for what you are not.”'),\n",
              " ('Thomas A. Edison',\n",
              "  ['edison', 'failure', 'inspirational', 'paraphrased'],\n",
              "  \"“I have not failed. I've just found 10,000 ways that won't work.”\"),\n",
              " ('Eleanor Roosevelt',\n",
              "  ['misattributed-eleanor-roosevelt'],\n",
              "  \"“A woman is like a tea bag; you never know how strong it is until it's in hot water.”\"),\n",
              " ('Steve Martin',\n",
              "  ['humor', 'obvious', 'simile'],\n",
              "  '“A day without sunshine is like, you know, night.”'),\n",
              " ('Marilyn Monroe',\n",
              "  ['friends', 'heartbreak', 'inspirational', 'life', 'love', 'sisters'],\n",
              "  \"“This life is what you make it. No matter what, you're going to mess up sometimes, it's a universal truth. But the good part is you get to decide how you're going to mess it up. Girls will be your friends - they'll act like it anyway. But just remember, some come, some go. The ones that stay with you through everything - they're your true best friends. Don't let go of them. Also remember, sisters make the best friends in the world. As for lovers, well, they'll come and go too. And baby, I hate to say it, most of them - actually pretty much all of them are going to break your heart, but you can't give up because if you give up, you'll never find your soulmate. You'll never find that half who makes you whole and that goes for everything. Just because you fail once, doesn't mean you're gonna fail at everything. Keep trying, hold on, and always, always, always believe in yourself, because if you don't, then who will, sweetie? So keep your head high, keep your chin up, and most importantly, keep smiling, because life's a beautiful thing and there's so much to smile about.”\"),\n",
              " ('J.K. Rowling',\n",
              "  ['courage', 'friends'],\n",
              "  '“It takes a great deal of bravery to stand up to our enemies, but just as much to stand up to our friends.”'),\n",
              " ('Albert Einstein',\n",
              "  ['simplicity', 'understand'],\n",
              "  \"“If you can't explain it to a six year old, you don't understand it yourself.”\"),\n",
              " ('Bob Marley',\n",
              "  ['love'],\n",
              "  \"“You may not be her first, her last, or her only. She loved before she may love again. But if she loves you now, what else matters? She's not perfect—you aren't either, and the two of you may never be perfect together but if she can make you laugh, cause you to think twice, and admit to being human and making mistakes, hold onto her and give her the most you can. She may not be thinking about you every second of the day, but she will give you a part of her that she knows you can break—her heart. So don't hurt her, don't change her, don't analyze and don't expect more than she can give. Smile when she makes you happy, let her know when she makes you mad, and miss her when she's not there.”\"),\n",
              " ('Dr. Seuss',\n",
              "  ['fantasy'],\n",
              "  '“I like nonsense, it wakes up the brain cells. Fantasy is a necessary ingredient in living.”'),\n",
              " ('Douglas Adams',\n",
              "  ['life', 'navigation'],\n",
              "  '“I may not have gone where I intended to go, but I think I have ended up where I needed to be.”'),\n",
              " ('Elie Wiesel',\n",
              "  ['activism',\n",
              "   'apathy',\n",
              "   'hate',\n",
              "   'indifference',\n",
              "   'inspirational',\n",
              "   'love',\n",
              "   'opposite',\n",
              "   'philosophy'],\n",
              "  \"“The opposite of love is not hate, it's indifference. The opposite of art is not ugliness, it's indifference. The opposite of faith is not heresy, it's indifference. And the opposite of life is not death, it's indifference.”\"),\n",
              " ('Friedrich Nietzsche',\n",
              "  ['friendship',\n",
              "   'lack-of-friendship',\n",
              "   'lack-of-love',\n",
              "   'love',\n",
              "   'marriage',\n",
              "   'unhappy-marriage'],\n",
              "  '“It is not a lack of love, but a lack of friendship that makes unhappy marriages.”'),\n",
              " ('Mark Twain',\n",
              "  ['books', 'contentment', 'friends', 'friendship', 'life'],\n",
              "  '“Good friends, good books, and a sleepy conscience: this is the ideal life.”'),\n",
              " ('Allen Saunders',\n",
              "  ['fate', 'life', 'misattributed-john-lennon', 'planning', 'plans'],\n",
              "  '“Life is what happens to us while we are making other plans.”'),\n",
              " ('Pablo Neruda',\n",
              "  ['love', 'poetry'],\n",
              "  '“I love you without knowing how, or when, or from where. I love you simply, without problems or pride: I love you in this way because I do not know any other way of loving but this, in which there is no I or you, so intimate that your hand upon my chest is my hand, so intimate that when I fall asleep your eyes close.”'),\n",
              " ('Ralph Waldo Emerson',\n",
              "  ['happiness'],\n",
              "  '“For every minute you are angry you lose sixty seconds of happiness.”'),\n",
              " ('Mother Teresa',\n",
              "  ['attributed-no-source'],\n",
              "  '“If you judge people, you have no time to love them.”'),\n",
              " ('Garrison Keillor',\n",
              "  ['humor', 'religion'],\n",
              "  '“Anyone who thinks sitting in church can make you a Christian must also think that sitting in a garage can make you a car.”'),\n",
              " ('Jim Henson',\n",
              "  ['humor'],\n",
              "  '“Beauty is in the eye of the beholder and it may be necessary from time to time to give a stupid or misinformed beholder a black eye.”'),\n",
              " ('Dr. Seuss',\n",
              "  ['comedy', 'life', 'yourself'],\n",
              "  '“Today you are You, that is truer than true. There is no one alive who is Youer than You.”'),\n",
              " ('Albert Einstein',\n",
              "  ['children', 'fairy-tales'],\n",
              "  '“If you want your children to be intelligent, read them fairy tales. If you want them to be more intelligent, read them more fairy tales.”'),\n",
              " ('J.K. Rowling',\n",
              "  [],\n",
              "  '“It is impossible to live without failing at something, unless you live so cautiously that you might as well not have lived at all - in which case, you fail by default.”'),\n",
              " ('Albert Einstein',\n",
              "  ['imagination'],\n",
              "  '“Logic will get you from A to Z; imagination will get you everywhere.”'),\n",
              " ('Bob Marley',\n",
              "  ['music'],\n",
              "  '“One good thing about music, when it hits you, you feel no pain.”'),\n",
              " ('Dr. Seuss',\n",
              "  ['learning', 'reading', 'seuss'],\n",
              "  \"“The more that you read, the more things you will know. The more that you learn, the more places you'll go.”\"),\n",
              " ('J.K. Rowling',\n",
              "  ['dumbledore'],\n",
              "  '“Of course it is happening inside your head, Harry, but why on earth should that mean that it is not real?”'),\n",
              " ('Bob Marley',\n",
              "  ['friendship'],\n",
              "  '“The truth is, everyone is going to hurt you. You just got to find the ones worth suffering for.”'),\n",
              " ('Mother Teresa',\n",
              "  ['misattributed-to-mother-teresa', 'paraphrased'],\n",
              "  '“Not all of us can do great things. But we can do small things with great love.”'),\n",
              " ('J.K. Rowling',\n",
              "  ['death', 'inspirational'],\n",
              "  '“To the well-organized mind, death is but the next great adventure.”'),\n",
              " ('Charles M. Schulz',\n",
              "  ['chocolate', 'food', 'humor'],\n",
              "  \"“All you need is love. But a little chocolate now and then doesn't hurt.”\"),\n",
              " ('William Nicholson',\n",
              "  ['misattributed-to-c-s-lewis', 'reading'],\n",
              "  \"“We read to know we're not alone.”\"),\n",
              " ('Albert Einstein',\n",
              "  ['knowledge', 'learning', 'understanding', 'wisdom'],\n",
              "  '“Any fool can know. The point is to understand.”'),\n",
              " ('Jorge Luis Borges',\n",
              "  ['books', 'library'],\n",
              "  '“I have always imagined that Paradise will be a kind of library.”'),\n",
              " ('George Eliot',\n",
              "  ['inspirational'],\n",
              "  '“It is never too late to be what you might have been.”'),\n",
              " ('George R.R. Martin',\n",
              "  ['read', 'readers', 'reading', 'reading-books'],\n",
              "  '“A reader lives a thousand lives before he dies, said Jojen. The man who never reads lives only one.”'),\n",
              " ('C.S. Lewis',\n",
              "  ['books', 'inspirational', 'reading', 'tea'],\n",
              "  '“You can never get a cup of tea large enough or a book long enough to suit me.”'),\n",
              " ('Marilyn Monroe',\n",
              "  [],\n",
              "  '“You believe lies so you eventually learn to trust no one but yourself.”'),\n",
              " ('Marilyn Monroe',\n",
              "  ['girls', 'love'],\n",
              "  '“If you can make a woman laugh, you can make her do anything.”'),\n",
              " ('Albert Einstein',\n",
              "  ['life', 'simile'],\n",
              "  '“Life is like riding a bicycle. To keep your balance, you must keep moving.”'),\n",
              " ('Marilyn Monroe',\n",
              "  ['love'],\n",
              "  '“The real lover is the man who can thrill you by kissing your forehead or smiling into your eyes or just staring into space.”'),\n",
              " ('Marilyn Monroe',\n",
              "  ['attributed-no-source'],\n",
              "  \"“A wise girl kisses but doesn't love, listens but doesn't believe, and leaves before she is left.”\"),\n",
              " ('Martin Luther King Jr.',\n",
              "  ['hope', 'inspirational'],\n",
              "  '“Only in the darkness can you see the stars.”'),\n",
              " ('J.K. Rowling',\n",
              "  ['dumbledore'],\n",
              "  '“It matters not what someone is born, but what they grow to be.”'),\n",
              " ('James Baldwin',\n",
              "  ['love'],\n",
              "  '“Love does not begin and end the way we seem to think it does. Love is a battle, love is a war; love is a growing up.”'),\n",
              " ('Jane Austen',\n",
              "  ['friendship', 'love'],\n",
              "  '“There is nothing I would not do for those who are really my friends. I have no notion of loving people by halves, it is not my nature.”'),\n",
              " ('Eleanor Roosevelt',\n",
              "  ['attributed', 'fear', 'inspiration'],\n",
              "  '“Do one thing every day that scares you.”'),\n",
              " ('Marilyn Monroe',\n",
              "  ['attributed-no-source'],\n",
              "  '“I am good, but not an angel. I do sin, but I am not the devil. I am just a small girl in a big world trying to find someone to love.”'),\n",
              " ('Albert Einstein',\n",
              "  ['music'],\n",
              "  '“If I were not a physicist, I would probably be a musician. I often think in music. I live my daydreams in music. I see my life in terms of music.”'),\n",
              " ('Haruki Murakami',\n",
              "  ['books', 'thought'],\n",
              "  '“If you only read the books that everyone else is reading, you can only think what everyone else is thinking.”'),\n",
              " ('Alexandre Dumas fils',\n",
              "  ['misattributed-to-einstein'],\n",
              "  '“The difference between genius and stupidity is: genius has its limits.”'),\n",
              " ('Stephenie Meyer',\n",
              "  ['drug', 'romance', 'simile'],\n",
              "  \"“He's like a drug for you, Bella.”\"),\n",
              " ('Ernest Hemingway',\n",
              "  ['books', 'friends', 'novelist-quotes'],\n",
              "  '“There is no friend as loyal as a book.”'),\n",
              " ('Helen Keller',\n",
              "  ['inspirational'],\n",
              "  '“When one door of happiness closes, another opens; but often we look so long at the closed door that we do not see the one which has been opened for us.”'),\n",
              " ('George Bernard Shaw',\n",
              "  ['inspirational', 'life', 'yourself'],\n",
              "  \"“Life isn't about finding yourself. Life is about creating yourself.”\"),\n",
              " ('Charles Bukowski',\n",
              "  ['alcohol'],\n",
              "  \"“That's the problem with drinking, I thought, as I poured myself a drink. If something bad happens you drink in an attempt to forget; if something good happens you drink in order to celebrate; and if nothing happens you drink to make something happen.”\"),\n",
              " ('Suzanne Collins',\n",
              "  ['the-hunger-games'],\n",
              "  '“You don’t forget the face of the person who was your last hope.”'),\n",
              " ('Suzanne Collins',\n",
              "  ['humor'],\n",
              "  \"“Remember, we're madly in love, so it's all right to kiss me anytime you feel like it.”\"),\n",
              " ('C.S. Lewis',\n",
              "  ['love'],\n",
              "  '“To love at all is to be vulnerable. Love anything and your heart will be wrung and possibly broken. If you want to make sure of keeping it intact you must give it to no one, not even an animal. Wrap it carefully round with hobbies and little luxuries; avoid all entanglements. Lock it up safe in the casket or coffin of your selfishness. But in that casket, safe, dark, motionless, airless, it will change. It will not be broken; it will become unbreakable, impenetrable, irredeemable. To love is to be vulnerable.”'),\n",
              " ('J.R.R. Tolkien',\n",
              "  ['bilbo', 'journey', 'lost', 'quest', 'travel', 'wander'],\n",
              "  '“Not all those who wander are lost.”'),\n",
              " ('J.K. Rowling',\n",
              "  ['live-death-love'],\n",
              "  '“Do not pity the dead, Harry. Pity the living, and, above all those who live without love.”'),\n",
              " ('Ernest Hemingway',\n",
              "  ['good', 'writing'],\n",
              "  '“There is nothing to writing. All you do is sit down at a typewriter and bleed.”'),\n",
              " ('Ralph Waldo Emerson',\n",
              "  ['life', 'regrets'],\n",
              "  '“Finish each day and be done with it. You have done what you could. Some blunders and absurdities no doubt crept in; forget them as soon as you can. Tomorrow is a new day. You shall begin it serenely and with too high a spirit to be encumbered with your old nonsense.”'),\n",
              " ('Mark Twain',\n",
              "  ['education'],\n",
              "  '“I have never let my schooling interfere with my education.”'),\n",
              " ('Dr. Seuss',\n",
              "  ['troubles'],\n",
              "  \"“I have heard there are troubles of more than one kind. Some come from ahead and some come from behind. But I've bought a big bat. I'm all ready you see. Now my troubles are going to have troubles with me!”\"),\n",
              " ('Alfred Tennyson',\n",
              "  ['friendship', 'love'],\n",
              "  '“If I had a flower for every time I thought of you...I could walk through my garden forever.”'),\n",
              " ('Charles Bukowski',\n",
              "  ['humor'],\n",
              "  '“Some people never go crazy. What truly horrible lives they must lead.”'),\n",
              " ('Terry Pratchett',\n",
              "  ['humor', 'open-mind', 'thinking'],\n",
              "  '“The trouble with having an open mind, of course, is that people will insist on coming along and trying to put things in it.”'),\n",
              " ('Dr. Seuss',\n",
              "  ['humor', 'philosophy'],\n",
              "  '“Think left and think right and think low and think high. Oh, the thinks you can think up if only you try!”'),\n",
              " ('J.D. Salinger',\n",
              "  ['authors', 'books', 'literature', 'reading', 'writing'],\n",
              "  \"“What really knocks me out is a book that, when you're all done reading it, you wish the author that wrote it was a terrific friend of yours and you could call him up on the phone whenever you felt like it. That doesn't happen much, though.”\"),\n",
              " ('George Carlin',\n",
              "  ['humor', 'insanity', 'lies', 'lying', 'self-indulgence', 'truth'],\n",
              "  '“The reason I talk to myself is because I’m the only one whose answers I accept.”'),\n",
              " ('John Lennon',\n",
              "  ['beatles',\n",
              "   'connection',\n",
              "   'dreamers',\n",
              "   'dreaming',\n",
              "   'dreams',\n",
              "   'hope',\n",
              "   'inspirational',\n",
              "   'peace'],\n",
              "  \"“You may say I'm a dreamer, but I'm not the only one. I hope someday you'll join us. And the world will live as one.”\"),\n",
              " ('W.C. Fields',\n",
              "  ['humor', 'sinister'],\n",
              "  '“I am free of all prejudice. I hate everyone equally. ”'),\n",
              " ('Ayn Rand',\n",
              "  [],\n",
              "  \"“The question isn't who is going to let me; it's who is going to stop me.”\"),\n",
              " ('Mark Twain',\n",
              "  ['books', 'classic', 'reading'],\n",
              "  \"“′Classic′ - a book which people praise and don't read.”\"),\n",
              " ('Albert Einstein',\n",
              "  ['mistakes'],\n",
              "  '“Anyone who has never made a mistake has never tried anything new.”'),\n",
              " ('Jane Austen',\n",
              "  ['humor', 'love', 'romantic', 'women'],\n",
              "  \"“A lady's imagination is very rapid; it jumps from admiration to love, from love to matrimony in a moment.”\"),\n",
              " ('J.K. Rowling',\n",
              "  ['integrity'],\n",
              "  '“Remember, if the time should come when you have to make a choice between what is right and what is easy, remember what happened to a boy who was good, and kind, and brave, because he strayed across the path of Lord Voldemort. Remember Cedric Diggory.”'),\n",
              " ('Jane Austen',\n",
              "  ['books', 'library', 'reading'],\n",
              "  '“I declare after all there is no enjoyment like reading! How much sooner one tires of any thing than of a book! -- When I have a house of my own, I shall be miserable if I have not an excellent library.”'),\n",
              " ('Jane Austen',\n",
              "  ['elizabeth-bennet', 'jane-austen'],\n",
              "  '“There are few people whom I really love, and still fewer of whom I think well. The more I see of the world, the more am I dissatisfied with it; and every day confirms my belief of the inconsistency of all human characters, and of the little dependence that can be placed on the appearance of merit or sense.”'),\n",
              " ('C.S. Lewis',\n",
              "  ['age', 'fairytales', 'growing-up'],\n",
              "  '“Some day you will be old enough to start reading fairy tales again.”'),\n",
              " ('C.S. Lewis',\n",
              "  ['god'],\n",
              "  '“We are not necessarily doubting that God will do the best for us; we are wondering how painful the best will turn out to be.”'),\n",
              " ('Mark Twain',\n",
              "  ['death', 'life'],\n",
              "  '“The fear of death follows from the fear of life. A man who lives fully is prepared to die at any time.”'),\n",
              " ('Mark Twain',\n",
              "  ['misattributed-mark-twain', 'truth'],\n",
              "  '“A lie can travel half way around the world while the truth is putting on its shoes.”'),\n",
              " ('C.S. Lewis',\n",
              "  ['christianity', 'faith', 'religion', 'sun'],\n",
              "  '“I believe in Christianity as I believe that the sun has risen: not only because I see it, but because by it I see everything else.”'),\n",
              " ('J.K. Rowling',\n",
              "  ['truth'],\n",
              "  '“The truth.\" Dumbledore sighed. \"It is a beautiful and terrible thing, and should therefore be treated with great caution.”'),\n",
              " ('Jimi Hendrix',\n",
              "  ['death', 'life'],\n",
              "  \"“I'm the one that's got to die when it's time for me to die, so let me live my life the way I want to.”\"),\n",
              " ('J.M. Barrie',\n",
              "  ['adventure', 'love'],\n",
              "  '“To die will be an awfully big adventure.”'),\n",
              " ('E.E. Cummings',\n",
              "  ['courage'],\n",
              "  '“It takes courage to grow up and become who you really are.”'),\n",
              " ('Khaled Hosseini',\n",
              "  ['life'],\n",
              "  '“But better to get hurt by the truth than comforted with a lie.”'),\n",
              " ('Harper Lee',\n",
              "  ['better-life-empathy'],\n",
              "  '“You never really understand a person until you consider things from his point of view... Until you climb inside of his skin and walk around in it.”'),\n",
              " (\"Madeleine L'Engle\",\n",
              "  ['books',\n",
              "   'children',\n",
              "   'difficult',\n",
              "   'grown-ups',\n",
              "   'write',\n",
              "   'writers',\n",
              "   'writing'],\n",
              "  '“You have to write the book that wants to be written. And if the book will be too difficult for grown-ups, then you write it for children.”'),\n",
              " ('Mark Twain',\n",
              "  ['truth'],\n",
              "  '“Never tell the truth to people who are not worthy of it.”'),\n",
              " ('Dr. Seuss',\n",
              "  ['inspirational'],\n",
              "  \"“A person's a person, no matter how small.”\"),\n",
              " ('George R.R. Martin',\n",
              "  ['books', 'mind'],\n",
              "  '“... a mind needs books as a sword needs a whetstone, if it is to keep its edge.”')]"
            ]
          },
          "metadata": {},
          "execution_count": 23
        }
      ]
    },
    {
      "cell_type": "code",
      "source": [
        "df = pd.DataFrame(list_of_quotes, columns = ['Authors', 'Tag', 'Quotes'])"
      ],
      "metadata": {
        "id": "WwmfI9luBzdb"
      },
      "execution_count": null,
      "outputs": []
    },
    {
      "cell_type": "code",
      "source": [
        "df"
      ],
      "metadata": {
        "colab": {
          "base_uri": "https://localhost:8080/",
          "height": 423
        },
        "id": "TGms4dQfDIBq",
        "outputId": "f7b2293d-97f9-46b0-cb35-1126fb966723"
      },
      "execution_count": null,
      "outputs": [
        {
          "output_type": "execute_result",
          "data": {
            "text/plain": [
              "               Authors                                                Tag  \\\n",
              "0      Albert Einstein           [change, deep-thoughts, thinking, world]   \n",
              "1         J.K. Rowling                               [abilities, choices]   \n",
              "2      Albert Einstein     [inspirational, life, live, miracle, miracles]   \n",
              "3          Jane Austen                 [aliteracy, books, classic, humor]   \n",
              "4       Marilyn Monroe                       [be-yourself, inspirational]   \n",
              "..                 ...                                                ...   \n",
              "95          Harper Lee                              [better-life-empathy]   \n",
              "96   Madeleine L'Engle  [books, children, difficult, grown-ups, write,...   \n",
              "97          Mark Twain                                            [truth]   \n",
              "98           Dr. Seuss                                    [inspirational]   \n",
              "99  George R.R. Martin                                      [books, mind]   \n",
              "\n",
              "                                               Quotes  \n",
              "0   “The world as we have created it is a process ...  \n",
              "1   “It is our choices, Harry, that show what we t...  \n",
              "2   “There are only two ways to live your life. On...  \n",
              "3   “The person, be it gentleman or lady, who has ...  \n",
              "4   “Imperfection is beauty, madness is genius and...  \n",
              "..                                                ...  \n",
              "95  “You never really understand a person until yo...  \n",
              "96  “You have to write the book that wants to be w...  \n",
              "97  “Never tell the truth to people who are not wo...  \n",
              "98        “A person's a person, no matter how small.”  \n",
              "99  “... a mind needs books as a sword needs a whe...  \n",
              "\n",
              "[100 rows x 3 columns]"
            ],
            "text/html": [
              "\n",
              "  <div id=\"df-d4a59b29-eca8-4b6d-a3af-f812460dc261\" class=\"colab-df-container\">\n",
              "    <div>\n",
              "<style scoped>\n",
              "    .dataframe tbody tr th:only-of-type {\n",
              "        vertical-align: middle;\n",
              "    }\n",
              "\n",
              "    .dataframe tbody tr th {\n",
              "        vertical-align: top;\n",
              "    }\n",
              "\n",
              "    .dataframe thead th {\n",
              "        text-align: right;\n",
              "    }\n",
              "</style>\n",
              "<table border=\"1\" class=\"dataframe\">\n",
              "  <thead>\n",
              "    <tr style=\"text-align: right;\">\n",
              "      <th></th>\n",
              "      <th>Authors</th>\n",
              "      <th>Tag</th>\n",
              "      <th>Quotes</th>\n",
              "    </tr>\n",
              "  </thead>\n",
              "  <tbody>\n",
              "    <tr>\n",
              "      <th>0</th>\n",
              "      <td>Albert Einstein</td>\n",
              "      <td>[change, deep-thoughts, thinking, world]</td>\n",
              "      <td>“The world as we have created it is a process ...</td>\n",
              "    </tr>\n",
              "    <tr>\n",
              "      <th>1</th>\n",
              "      <td>J.K. Rowling</td>\n",
              "      <td>[abilities, choices]</td>\n",
              "      <td>“It is our choices, Harry, that show what we t...</td>\n",
              "    </tr>\n",
              "    <tr>\n",
              "      <th>2</th>\n",
              "      <td>Albert Einstein</td>\n",
              "      <td>[inspirational, life, live, miracle, miracles]</td>\n",
              "      <td>“There are only two ways to live your life. On...</td>\n",
              "    </tr>\n",
              "    <tr>\n",
              "      <th>3</th>\n",
              "      <td>Jane Austen</td>\n",
              "      <td>[aliteracy, books, classic, humor]</td>\n",
              "      <td>“The person, be it gentleman or lady, who has ...</td>\n",
              "    </tr>\n",
              "    <tr>\n",
              "      <th>4</th>\n",
              "      <td>Marilyn Monroe</td>\n",
              "      <td>[be-yourself, inspirational]</td>\n",
              "      <td>“Imperfection is beauty, madness is genius and...</td>\n",
              "    </tr>\n",
              "    <tr>\n",
              "      <th>...</th>\n",
              "      <td>...</td>\n",
              "      <td>...</td>\n",
              "      <td>...</td>\n",
              "    </tr>\n",
              "    <tr>\n",
              "      <th>95</th>\n",
              "      <td>Harper Lee</td>\n",
              "      <td>[better-life-empathy]</td>\n",
              "      <td>“You never really understand a person until yo...</td>\n",
              "    </tr>\n",
              "    <tr>\n",
              "      <th>96</th>\n",
              "      <td>Madeleine L'Engle</td>\n",
              "      <td>[books, children, difficult, grown-ups, write,...</td>\n",
              "      <td>“You have to write the book that wants to be w...</td>\n",
              "    </tr>\n",
              "    <tr>\n",
              "      <th>97</th>\n",
              "      <td>Mark Twain</td>\n",
              "      <td>[truth]</td>\n",
              "      <td>“Never tell the truth to people who are not wo...</td>\n",
              "    </tr>\n",
              "    <tr>\n",
              "      <th>98</th>\n",
              "      <td>Dr. Seuss</td>\n",
              "      <td>[inspirational]</td>\n",
              "      <td>“A person's a person, no matter how small.”</td>\n",
              "    </tr>\n",
              "    <tr>\n",
              "      <th>99</th>\n",
              "      <td>George R.R. Martin</td>\n",
              "      <td>[books, mind]</td>\n",
              "      <td>“... a mind needs books as a sword needs a whe...</td>\n",
              "    </tr>\n",
              "  </tbody>\n",
              "</table>\n",
              "<p>100 rows × 3 columns</p>\n",
              "</div>\n",
              "    <div class=\"colab-df-buttons\">\n",
              "\n",
              "  <div class=\"colab-df-container\">\n",
              "    <button class=\"colab-df-convert\" onclick=\"convertToInteractive('df-d4a59b29-eca8-4b6d-a3af-f812460dc261')\"\n",
              "            title=\"Convert this dataframe to an interactive table.\"\n",
              "            style=\"display:none;\">\n",
              "\n",
              "  <svg xmlns=\"http://www.w3.org/2000/svg\" height=\"24px\" viewBox=\"0 -960 960 960\">\n",
              "    <path d=\"M120-120v-720h720v720H120Zm60-500h600v-160H180v160Zm220 220h160v-160H400v160Zm0 220h160v-160H400v160ZM180-400h160v-160H180v160Zm440 0h160v-160H620v160ZM180-180h160v-160H180v160Zm440 0h160v-160H620v160Z\"/>\n",
              "  </svg>\n",
              "    </button>\n",
              "\n",
              "  <style>\n",
              "    .colab-df-container {\n",
              "      display:flex;\n",
              "      gap: 12px;\n",
              "    }\n",
              "\n",
              "    .colab-df-convert {\n",
              "      background-color: #E8F0FE;\n",
              "      border: none;\n",
              "      border-radius: 50%;\n",
              "      cursor: pointer;\n",
              "      display: none;\n",
              "      fill: #1967D2;\n",
              "      height: 32px;\n",
              "      padding: 0 0 0 0;\n",
              "      width: 32px;\n",
              "    }\n",
              "\n",
              "    .colab-df-convert:hover {\n",
              "      background-color: #E2EBFA;\n",
              "      box-shadow: 0px 1px 2px rgba(60, 64, 67, 0.3), 0px 1px 3px 1px rgba(60, 64, 67, 0.15);\n",
              "      fill: #174EA6;\n",
              "    }\n",
              "\n",
              "    .colab-df-buttons div {\n",
              "      margin-bottom: 4px;\n",
              "    }\n",
              "\n",
              "    [theme=dark] .colab-df-convert {\n",
              "      background-color: #3B4455;\n",
              "      fill: #D2E3FC;\n",
              "    }\n",
              "\n",
              "    [theme=dark] .colab-df-convert:hover {\n",
              "      background-color: #434B5C;\n",
              "      box-shadow: 0px 1px 3px 1px rgba(0, 0, 0, 0.15);\n",
              "      filter: drop-shadow(0px 1px 2px rgba(0, 0, 0, 0.3));\n",
              "      fill: #FFFFFF;\n",
              "    }\n",
              "  </style>\n",
              "\n",
              "    <script>\n",
              "      const buttonEl =\n",
              "        document.querySelector('#df-d4a59b29-eca8-4b6d-a3af-f812460dc261 button.colab-df-convert');\n",
              "      buttonEl.style.display =\n",
              "        google.colab.kernel.accessAllowed ? 'block' : 'none';\n",
              "\n",
              "      async function convertToInteractive(key) {\n",
              "        const element = document.querySelector('#df-d4a59b29-eca8-4b6d-a3af-f812460dc261');\n",
              "        const dataTable =\n",
              "          await google.colab.kernel.invokeFunction('convertToInteractive',\n",
              "                                                    [key], {});\n",
              "        if (!dataTable) return;\n",
              "\n",
              "        const docLinkHtml = 'Like what you see? Visit the ' +\n",
              "          '<a target=\"_blank\" href=https://colab.research.google.com/notebooks/data_table.ipynb>data table notebook</a>'\n",
              "          + ' to learn more about interactive tables.';\n",
              "        element.innerHTML = '';\n",
              "        dataTable['output_type'] = 'display_data';\n",
              "        await google.colab.output.renderOutput(dataTable, element);\n",
              "        const docLink = document.createElement('div');\n",
              "        docLink.innerHTML = docLinkHtml;\n",
              "        element.appendChild(docLink);\n",
              "      }\n",
              "    </script>\n",
              "  </div>\n",
              "\n",
              "\n",
              "<div id=\"df-2aa12905-dc56-4281-88f4-73feb61b3342\">\n",
              "  <button class=\"colab-df-quickchart\" onclick=\"quickchart('df-2aa12905-dc56-4281-88f4-73feb61b3342')\"\n",
              "            title=\"Suggest charts\"\n",
              "            style=\"display:none;\">\n",
              "\n",
              "<svg xmlns=\"http://www.w3.org/2000/svg\" height=\"24px\"viewBox=\"0 0 24 24\"\n",
              "     width=\"24px\">\n",
              "    <g>\n",
              "        <path d=\"M19 3H5c-1.1 0-2 .9-2 2v14c0 1.1.9 2 2 2h14c1.1 0 2-.9 2-2V5c0-1.1-.9-2-2-2zM9 17H7v-7h2v7zm4 0h-2V7h2v10zm4 0h-2v-4h2v4z\"/>\n",
              "    </g>\n",
              "</svg>\n",
              "  </button>\n",
              "\n",
              "<style>\n",
              "  .colab-df-quickchart {\n",
              "      --bg-color: #E8F0FE;\n",
              "      --fill-color: #1967D2;\n",
              "      --hover-bg-color: #E2EBFA;\n",
              "      --hover-fill-color: #174EA6;\n",
              "      --disabled-fill-color: #AAA;\n",
              "      --disabled-bg-color: #DDD;\n",
              "  }\n",
              "\n",
              "  [theme=dark] .colab-df-quickchart {\n",
              "      --bg-color: #3B4455;\n",
              "      --fill-color: #D2E3FC;\n",
              "      --hover-bg-color: #434B5C;\n",
              "      --hover-fill-color: #FFFFFF;\n",
              "      --disabled-bg-color: #3B4455;\n",
              "      --disabled-fill-color: #666;\n",
              "  }\n",
              "\n",
              "  .colab-df-quickchart {\n",
              "    background-color: var(--bg-color);\n",
              "    border: none;\n",
              "    border-radius: 50%;\n",
              "    cursor: pointer;\n",
              "    display: none;\n",
              "    fill: var(--fill-color);\n",
              "    height: 32px;\n",
              "    padding: 0;\n",
              "    width: 32px;\n",
              "  }\n",
              "\n",
              "  .colab-df-quickchart:hover {\n",
              "    background-color: var(--hover-bg-color);\n",
              "    box-shadow: 0 1px 2px rgba(60, 64, 67, 0.3), 0 1px 3px 1px rgba(60, 64, 67, 0.15);\n",
              "    fill: var(--button-hover-fill-color);\n",
              "  }\n",
              "\n",
              "  .colab-df-quickchart-complete:disabled,\n",
              "  .colab-df-quickchart-complete:disabled:hover {\n",
              "    background-color: var(--disabled-bg-color);\n",
              "    fill: var(--disabled-fill-color);\n",
              "    box-shadow: none;\n",
              "  }\n",
              "\n",
              "  .colab-df-spinner {\n",
              "    border: 2px solid var(--fill-color);\n",
              "    border-color: transparent;\n",
              "    border-bottom-color: var(--fill-color);\n",
              "    animation:\n",
              "      spin 1s steps(1) infinite;\n",
              "  }\n",
              "\n",
              "  @keyframes spin {\n",
              "    0% {\n",
              "      border-color: transparent;\n",
              "      border-bottom-color: var(--fill-color);\n",
              "      border-left-color: var(--fill-color);\n",
              "    }\n",
              "    20% {\n",
              "      border-color: transparent;\n",
              "      border-left-color: var(--fill-color);\n",
              "      border-top-color: var(--fill-color);\n",
              "    }\n",
              "    30% {\n",
              "      border-color: transparent;\n",
              "      border-left-color: var(--fill-color);\n",
              "      border-top-color: var(--fill-color);\n",
              "      border-right-color: var(--fill-color);\n",
              "    }\n",
              "    40% {\n",
              "      border-color: transparent;\n",
              "      border-right-color: var(--fill-color);\n",
              "      border-top-color: var(--fill-color);\n",
              "    }\n",
              "    60% {\n",
              "      border-color: transparent;\n",
              "      border-right-color: var(--fill-color);\n",
              "    }\n",
              "    80% {\n",
              "      border-color: transparent;\n",
              "      border-right-color: var(--fill-color);\n",
              "      border-bottom-color: var(--fill-color);\n",
              "    }\n",
              "    90% {\n",
              "      border-color: transparent;\n",
              "      border-bottom-color: var(--fill-color);\n",
              "    }\n",
              "  }\n",
              "</style>\n",
              "\n",
              "  <script>\n",
              "    async function quickchart(key) {\n",
              "      const quickchartButtonEl =\n",
              "        document.querySelector('#' + key + ' button');\n",
              "      quickchartButtonEl.disabled = true;  // To prevent multiple clicks.\n",
              "      quickchartButtonEl.classList.add('colab-df-spinner');\n",
              "      try {\n",
              "        const charts = await google.colab.kernel.invokeFunction(\n",
              "            'suggestCharts', [key], {});\n",
              "      } catch (error) {\n",
              "        console.error('Error during call to suggestCharts:', error);\n",
              "      }\n",
              "      quickchartButtonEl.classList.remove('colab-df-spinner');\n",
              "      quickchartButtonEl.classList.add('colab-df-quickchart-complete');\n",
              "    }\n",
              "    (() => {\n",
              "      let quickchartButtonEl =\n",
              "        document.querySelector('#df-2aa12905-dc56-4281-88f4-73feb61b3342 button');\n",
              "      quickchartButtonEl.style.display =\n",
              "        google.colab.kernel.accessAllowed ? 'block' : 'none';\n",
              "    })();\n",
              "  </script>\n",
              "</div>\n",
              "    </div>\n",
              "  </div>\n"
            ],
            "application/vnd.google.colaboratory.intrinsic+json": {
              "type": "dataframe",
              "variable_name": "df",
              "summary": "{\n  \"name\": \"df\",\n  \"rows\": 100,\n  \"fields\": [\n    {\n      \"column\": \"Authors\",\n      \"properties\": {\n        \"dtype\": \"string\",\n        \"num_unique_values\": 50,\n        \"samples\": [\n          \"Mark Twain\",\n          \"J.D. Salinger\",\n          \"Stephenie Meyer\"\n        ],\n        \"semantic_type\": \"\",\n        \"description\": \"\"\n      }\n    },\n    {\n      \"column\": \"Tag\",\n      \"properties\": {\n        \"dtype\": \"object\",\n        \"semantic_type\": \"\",\n        \"description\": \"\"\n      }\n    },\n    {\n      \"column\": \"Quotes\",\n      \"properties\": {\n        \"dtype\": \"string\",\n        \"num_unique_values\": 100,\n        \"samples\": [\n          \"\\u201cI declare after all there is no enjoyment like reading! How much sooner one tires of any thing than of a book! -- When I have a house of my own, I shall be miserable if I have not an excellent library.\\u201d\",\n          \"\\u201cIf I were not a physicist, I would probably be a musician. I often think in music. I live my daydreams in music. I see my life in terms of music.\\u201d\",\n          \"\\u201cIf I had a flower for every time I thought of you...I could walk through my garden forever.\\u201d\"\n        ],\n        \"semantic_type\": \"\",\n        \"description\": \"\"\n      }\n    }\n  ]\n}"
            }
          },
          "metadata": {},
          "execution_count": 25
        }
      ]
    },
    {
      "cell_type": "code",
      "source": [
        "csv_file = df.to_csv('javier_allysa_notebook2.csv')\n",
        "csv_file"
      ],
      "metadata": {
        "id": "nQ28ukt0D-vB"
      },
      "execution_count": null,
      "outputs": []
    },
    {
      "cell_type": "code",
      "source": [
        "from google.colab import drive\n",
        "drive.mount('drive')"
      ],
      "metadata": {
        "colab": {
          "base_uri": "https://localhost:8080/"
        },
        "id": "pb2WZAeIBup4",
        "outputId": "609e94df-5997-4990-9ffa-2000ccfc47d3"
      },
      "execution_count": null,
      "outputs": [
        {
          "output_type": "stream",
          "name": "stdout",
          "text": [
            "Mounted at drive\n"
          ]
        }
      ]
    },
    {
      "cell_type": "code",
      "source": [
        "df.to_csv('javier_allysa_notebook2.csv')\n",
        "!cp javier_allysa_notebook2.csv \"drive/My Drive/\""
      ],
      "metadata": {
        "id": "uYrLVy1VB5qF"
      },
      "execution_count": null,
      "outputs": []
    }
  ]
}